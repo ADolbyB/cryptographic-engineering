{
 "cells": [
  {
   "cell_type": "markdown",
   "metadata": {},
   "source": [
    "# Joel Brigida\n",
    "## CDA-4321: Cryptographic Engineering"
   ]
  },
  {
   "cell_type": "markdown",
   "metadata": {},
   "source": [
    "### PreLab Bonus:\n",
    "#### - Conditional Statements (if-else) and loops (while(), for(), etc) are NOT to be used.\n",
    "#### - Arrays are available but their syntax is $ a_i $ instead of $ a[i] $. Whenever $ a (a_3 a_2 a_1 a_0 ) $ is written, it means $ a $ is an array of four elements and the elements are $ a_0 $, $ a_1 $, $ a_2 $, $ a_3 $ with $ a_0 $ being the first element.\n",
    "#### - Radix $ 2^8 $ representation is used to represent multi-precision integer with each element having $ 32 $ bit data type. For example, a 32-bit number $ a (a_3 a_2 a_1 a_0 ) $ has 4 digits $ a_0 $, $ a_1 $, $ a_2 $, $ a_3 $ with each of these digits having 32-bits of storage and only the least significant 8-bits are used to represent the large integer (the remaining 24-bits are 0s by default)."
   ]
  },
  {
   "cell_type": "markdown",
   "metadata": {},
   "source": [
    "### 1) Addition:\n",
    "\n",
    "### - In this exercise, you are going to add two 32-bit numbers $ a(a_3 a_2 a_1 a_0 ) $ and $ b(b_3 b_2 b_1 b_0) $ into the 32-bit number $ r(r_3 r_2 r_1 r_0) $. Even though the output is supposed to be $ 33 $ bits, we are going to ignore the 33rd bit and assume it is an overflow (the first 32 bit are still outputted).\n",
    "\n",
    "#### - 1a) Carry Propagation\n",
    "When performing schoolbook addition, carry propagation from one\n",
    "digit to the next digit is required as shown in Figure 1. This can be seen as an add with carry\n",
    "function that takes as inputs the carry in and two addends and as outputs the sum and the\n",
    "carry out as shown in Figure 2. Write a code that implements the function ADDC(carryIn,\n",
    "addend1, addend2, sum, carryOut). Remember that addend1 and addend2 are 32-bit\n",
    "data-type with only the lowest 8-bit filled; therefore, the sum must similarly be 32-bit\n",
    "datatype with the lowest 8-bit filled and the remaining 24-bit 0s at the end of the function.\n",
    "The carryIn and carryOut are 1 bit only."
   ]
  },
  {
   "cell_type": "code",
   "execution_count": 2,
   "metadata": {},
   "outputs": [
    {
     "name": "stdout",
     "output_type": "stream",
     "text": [
      "b = 0b10001111\n",
      "bComp: 0b11110001\n",
      "\n",
      "sum = 0x8d = 0b10001101, carry = 1\n",
      "totalSum = 0x8d, carryOut = 1\n",
      "TEST: 0b11111110 + 0b10001111 = 0b110001101\n"
     ]
    }
   ],
   "source": [
    "def ADDC(carryIn, addend1, addend2):\n",
    "    sum = carryIn + addend1 + addend2\n",
    "    carryOut = sum >> 8     # shift right to leave only the MSB\n",
    "    sum = sum & 0xFF        # Mask sum to 8 lowest bits\n",
    "    print(f'sum = {hex(sum)} = {bin(sum)}, carry = {carryOut}') # sum is now 8 bits max\n",
    "    return sum, carryOut\n",
    "\n",
    "# Test call the function this way\n",
    "a = 0xFE\n",
    "b = 0x8F\n",
    "print(f'b = {bin(b)}')\n",
    "bComp = bin(int(bin(b)[:1:-1], 2))\n",
    "\n",
    "print(f'bComp: {bComp}\\n')\n",
    "carry = 0\n",
    "totalSum = 0\n",
    "\n",
    "totalSum, carry = ADDC(0, a, b)\n",
    "\n",
    "print(f'totalSum = {hex(totalSum)}, carryOut = {carry}')\n",
    "print(f'TEST: {bin(0xFE)} + {bin(0x8F)} = {bin(0xFE + 0x8F)}')"
   ]
  },
  {
   "cell_type": "markdown",
   "metadata": {},
   "source": [
    "### 1b)\n",
    "\n",
    "Using the ADDC function created in the previous part, write the function `add32(r, a, b)`\n",
    "which performs $ r = a + b $. You have access to one additional variable called carry which is\n",
    "1 bit.\n",
    "\n",
    "- Here we need to add the arrays $ a(a_3 a_2 a_1 a_0 ) $ and $ b(b_3 b_2 b_1 b_0) $ into the 32-bit number $ r(r_3 r_2 r_1 r_0) $."
   ]
  },
  {
   "cell_type": "code",
   "execution_count": 3,
   "metadata": {},
   "outputs": [],
   "source": [
    "def add32(a, b):                            # 32-bit numbers a (a3a2a1a0) and b (b3b2b1b0)\n",
    "    carryIn = 0                             # Initial carry in always zero.\n",
    "    r3, r3carry = ADDC(carryIn, a[3], b[3])\n",
    "    r2, r2carry = ADDC(r3carry, a[2], b[2])\n",
    "    r1, r1carry = ADDC(r2carry, a[1], b[1])\n",
    "    r0, r0carry = ADDC(r1carry, a[0], b[0]) # We are dropping the MSB Carry bit\n",
    "    r = [ hex(r0), hex(r1), hex(r2), hex(r3) ]\n",
    "    print(f'Inside add32: r = {r}\\n')\n",
    "    return r\n",
    "\n",
    "    # 1st carryIn will be 0\n",
    "    # What does the function return? the sum and the carryOut...\n",
    "    # ADDC(0, a0, b0, r0, carry)\n",
    "    # ADDC(0, a1, b1, r1, carry)\n",
    "    # addend1 = a0, addend2 = b0, r0 = a0 + b0\n",
    "    # ADDC(carryIn, addend1, addend2, sum, carryOut)"
   ]
  },
  {
   "cell_type": "markdown",
   "metadata": {},
   "source": [
    "Part C:\n",
    "- Figure out how to separate the test $a$ and $b$ hex values.\n",
    "- $ a = $ `0x5b02deb9`, $ b = $ `0x41fdec03`"
   ]
  },
  {
   "cell_type": "code",
   "execution_count": 4,
   "metadata": {},
   "outputs": [
    {
     "name": "stdout",
     "output_type": "stream",
     "text": [
      "0x5b02deb9 + 0x41fdec03 = 0x9d00cabc\n",
      "\n",
      "sum = 0xbc = 0b10111100, carry = 0\n",
      "sum = 0xca = 0b11001010, carry = 1\n",
      "sum = 0x0 = 0b0, carry = 1\n",
      "sum = 0x9d = 0b10011101, carry = 0\n",
      "Inside add32: r = ['0x9d', '0x0', '0xca', '0xbc']\n",
      "\n",
      "array32:       ['0x9d', '0x0', '0xca', '0xbc']\n",
      "Padded Result: ['009d', '0000', '00ca', '00bc']\n"
     ]
    }
   ],
   "source": [
    "a1 = 0x5b02deb9\n",
    "b1 = 0x41fdec03\n",
    "\n",
    "print(f'{hex(a1)} + {hex(b1)} = {hex(a1 + b1)}\\n')\n",
    "\n",
    "# a32 = 0x5b02deb9, a0 = b9, a1 = de, a2 = 02, a3 = 5b\n",
    "# b32 = 0x41fdec03, b0 = 03, b1 = ec, b2 = fd, b3 = 41\n",
    "\n",
    "a32 = [ 0x5B, 0x02, 0xDE, 0xB9 ]\n",
    "b32 = [ 0x41, 0xFD, 0xEC, 0x03 ]\n",
    "\n",
    "array32 = add32(a32, b32)\n",
    "\n",
    "newArray32 = [value[2:].zfill(4) for value in array32]\n",
    "# For list not already in hex() format:\n",
    "# hexList = [hex(value)[2:].zfill(4) for value in origList]\n",
    "\n",
    "print(f'array32:       {array32}')\n",
    "print(f'Padded Result: {newArray32}')"
   ]
  },
  {
   "cell_type": "markdown",
   "metadata": {},
   "source": [
    "Part D: Verify Everything in SageMath"
   ]
  },
  {
   "cell_type": "code",
   "execution_count": 5,
   "metadata": {},
   "outputs": [],
   "source": [
    "# I guess that's what I already did above?\n",
    "\n"
   ]
  },
  {
   "cell_type": "markdown",
   "metadata": {},
   "source": [
    "Part 2: Subtraction\n",
    "\n",
    "In this exercise, you are going to subtract two 32-bit numbers $ a(a_3 a_2 a_1 a_0 ) $ \n",
    "and $ b(b_3 b_2 b_1 b_0) $ into the 32-bit number $ r(r_3 r_2 r_1 r_0) $. Even though the \n",
    "output is supposed to be 33 bits to accommodate all values, we are going to ignore the \n",
    "33rd bit and assume it is an overflow (the first 32 bit are still outputted). \n",
    "Read the subtraction section before continuing\n",
    "\n",
    "- Subtraction can be performed by adding the 2's compliment of the subtrahend to the minuend"
   ]
  },
  {
   "cell_type": "markdown",
   "metadata": {},
   "source": [
    "Part 2a: Borrow Propagation\n",
    "\n",
    "When performing schoolbook subtraction, borrow propagation\n",
    "from one digit to the next digit is required as shown in Figure 3. This can be seen as a\n",
    "subtract with borrow function that takes as inputs the borrow in, minuend and subtrahend,\n",
    "and as outputs the difference and the borrow out as shown in Figure 4. The subtraction\n",
    "function is a bit tricky. When the minuend is smaller than the subtrahend, you will get the\n",
    "output similar to the subtraction section. However, when borrowing from the next digit,\n",
    "you are actually borrowing 2 8 =0x100 (aka the radix). Therefore, you will add 0x100 when\n",
    "the minuend is smaller than the subtrahend+borrowIn. There is no access to if statements\n",
    "which means the difference and borrowOut must be extracted using bit manipulation. To\n",
    "figure out how to extract the values, compute 0x12-0x21 which requires borrowing. Then\n",
    "add 0x100 to figure out what the difference should be. Compare the lowest 8 bits of both\n",
    "values. Assume radix-2 8 and all data types are 32 bits."
   ]
  },
  {
   "cell_type": "code",
   "execution_count": 4,
   "metadata": {},
   "outputs": [
    {
     "name": "stdout",
     "output_type": "stream",
     "text": [
      "0x5b02deb9 - 0x41fdec03 = 0x1904f2b6\n",
      "\n",
      "0xf92cd47a - 0x5f2a8d42 = 0x9a024738\n",
      "\n"
     ]
    }
   ],
   "source": [
    "# Similar to the addition problem but with a borrow instead of carry\n",
    "a2 = 0x5b02deb9\n",
    "b2 = 0x41fdec03\n",
    "\n",
    "a3 = 0xf92cd47a\n",
    "b3 = 0x5f2a8d42\n",
    "\n",
    "\n",
    "print(f'{hex(a2)} - {hex(b2)} = {hex(a2 - b2)}\\n')\n",
    "print(f'{hex(a3)} - {hex(b3)} = {hex(a3 - b3)}\\n')"
   ]
  },
  {
   "cell_type": "markdown",
   "metadata": {},
   "source": [
    "Functions for Subtraction:"
   ]
  },
  {
   "cell_type": "code",
   "execution_count": 6,
   "metadata": {},
   "outputs": [
    {
     "name": "stdout",
     "output_type": "stream",
     "text": [
      "difference = 0xb6 = 0b10110110, borrow = 0\n",
      "difference = 0xf2 = 0b11110010, borrow = -1\n",
      "difference = 0x4 = 0b100, borrow = -1\n",
      "difference = 0x19 = 0b11001, borrow = 0\n",
      "Inside sub32: r = ['0x19', '0x4', '0xf2', '0xb6']\n",
      "\n",
      "difference = 0x38 = 0b111000, borrow = 0\n",
      "difference = 0x47 = 0b1000111, borrow = 0\n",
      "difference = 0x2 = 0b10, borrow = 0\n",
      "difference = 0x9a = 0b10011010, borrow = 0\n",
      "Inside sub32: r = ['0x9a', '0x2', '0x47', '0x38']\n",
      "\n",
      "array32:          ['0x19', '0x4', '0xf2', '0xb6']\n",
      "array33:          ['0x9a', '0x2', '0x47', '0x38']\n"
     ]
    }
   ],
   "source": [
    "def SUBC(borrowIn, minuend, subtrahend):\n",
    "    difference = minuend - subtrahend + borrowIn\n",
    "    borrowOut = difference >> 8                 # shift right to leave only the MSB\n",
    "    difference = difference & 0xFF              # Mask sum to 8 lowest bits\n",
    "    print(f'difference = {hex(difference)} = {bin(difference)}, borrow = {borrowOut}') # sum is now 8 bits max\n",
    "    return difference, borrowOut\n",
    "\n",
    "\n",
    "def sub32(a, b):                                # 32-bit numbers a (a3a2a1a0) and b (b3b2b1b0)\n",
    "    borrowIn = 0                                # Initial carry in always zero.\n",
    "    r3, r3borrow = SUBC(borrowIn, a[3], b[3])\n",
    "    r2, r2borrow = SUBC(r3borrow, a[2], b[2])\n",
    "    r1, r1borrow = SUBC(r2borrow, a[1], b[1])\n",
    "    r0, r0borrow = SUBC(r1borrow, a[0], b[0])    # We are dropping the MSB Carry bit\n",
    "    r = [ hex(r0), hex(r1), hex(r2), hex(r3) ]\n",
    "    print(f'Inside sub32: r = {r}\\n')\n",
    "    return r\n",
    "\n",
    "a32 = [ 0x5B, 0x02, 0xDE, 0xB9 ]\n",
    "b32 = [ 0x41, 0xFD, 0xEC, 0x03 ]\n",
    "\n",
    "a33 = [ 0xF9, 0x2C, 0xD4, 0x7A ]\n",
    "b33 = [ 0x5F, 0x2A, 0x8D, 0x42 ]\n",
    "\n",
    "array32 = sub32(a32, b32)\n",
    "array33 = sub32(a33, b33)\n",
    "\n",
    "# newArray32 = [value[2:].zfill(4) for value in array32]\n",
    "# For list not already in hex() format:\n",
    "# hexList = [hex(value)[2:].zfill(4) for value in origList]\n",
    "\n",
    "print(f'array32:          {array32}')\n",
    "print(f'array33:          {array33}')\n",
    "# print(f'Padded Result: {newArray32}')"
   ]
  }
 ],
 "metadata": {
  "kernelspec": {
   "display_name": "Python 3",
   "language": "python",
   "name": "python3"
  },
  "language_info": {
   "codemirror_mode": {
    "name": "ipython",
    "version": 3
   },
   "file_extension": ".py",
   "mimetype": "text/x-python",
   "name": "python",
   "nbconvert_exporter": "python",
   "pygments_lexer": "ipython3",
   "version": "3.10.9"
  },
  "orig_nbformat": 4
 },
 "nbformat": 4,
 "nbformat_minor": 2
}
