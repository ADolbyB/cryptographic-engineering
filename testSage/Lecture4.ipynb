{
 "cells": [
  {
   "cell_type": "markdown",
   "metadata": {},
   "source": [
    "Joel Brigida\n",
    "\n",
    "CDA-4321: Cryptographic Engineering\n",
    "\n",
    "Lecture 4 Functions For Assignment 1"
   ]
  },
  {
   "cell_type": "markdown",
   "metadata": {},
   "source": [
    "Factoring 19 decimal digits / 61 binary bit number:"
   ]
  },
  {
   "cell_type": "code",
   "execution_count": 1,
   "metadata": {},
   "outputs": [
    {
     "name": "stdout",
     "output_type": "stream",
     "text": [
      "CPU times: user 2.72 ms, sys: 247 µs, total: 2.97 ms\n",
      "Wall time: 3.61 ms\n"
     ]
    },
    {
     "data": {
      "text/plain": [
       "1073741827 * 1073741831"
      ]
     },
     "execution_count": 1,
     "metadata": {},
     "output_type": "execute_result"
    }
   ],
   "source": [
    "time factor(1152921515344265237)"
   ]
  },
  {
   "cell_type": "markdown",
   "metadata": {},
   "source": [
    "Factoring 55 decimal digits = 182 binary bit number"
   ]
  },
  {
   "cell_type": "code",
   "execution_count": 2,
   "metadata": {},
   "outputs": [
    {
     "name": "stdout",
     "output_type": "stream",
     "text": [
      "CPU times: user 1.28 s, sys: 10.9 ms, total: 1.29 s\n",
      "Wall time: 1.29 s\n"
     ]
    },
    {
     "data": {
      "text/plain": [
       "1237940039285380274899124357 * 2475880078570760549798248507"
      ]
     },
     "execution_count": 2,
     "metadata": {},
     "output_type": "execute_result"
    }
   ],
   "source": [
    "time factor(3064991081731777716716694456631131134986067586582584999)"
   ]
  },
  {
   "cell_type": "markdown",
   "metadata": {},
   "source": [
    "Multiplicative Inverse:\n",
    "\n",
    "Find Multiplicative Inverse of 32 modulo 17\n",
    "\n",
    "Note that: $$ 32^{-1} \\bmod 17 = 8 $$"
   ]
  },
  {
   "cell_type": "code",
   "execution_count": 3,
   "metadata": {},
   "outputs": [
    {
     "name": "stdout",
     "output_type": "stream",
     "text": [
      "GCD(32, 17) = 1\n",
      "\n",
      "inverse_mod(32, 17) = 8\n",
      "\n",
      "32 % 17 = 15\n",
      "\n",
      "XGCD(32, 17) = (1, 8, -15)\n"
     ]
    }
   ],
   "source": [
    "print(f'GCD(32, 17) = {gcd(32, 17)}\\n')\n",
    "\n",
    "print(f'inverse_mod(32, 17) = {inverse_mod(32, 17)}\\n')\n",
    "\n",
    "print(f'32 % 17 = {32 % 17}\\n')\n",
    "\n",
    "print(f'XGCD(32, 17) = {xgcd(32, 17)}')"
   ]
  },
  {
   "cell_type": "markdown",
   "metadata": {},
   "source": [
    "### Euler's Phi $ \\Phi $ Function\n",
    "\n",
    "#### Theorem: $$ \\forall x(\\mathbb{Z}_n)^* : x^{\\Phi(n)} = 1 \\text{ in } \\mathbb{Z}_n $$\n",
    "\n",
    "#### Remeber for Fermat: $$ x^{\\Phi(p)} = x^{p-1} \\equiv 1 \\, (\\bmod \\, p) $$\n",
    "\n",
    "- The Euler Phi Function is Multiplicative\n",
    "- Finding $\\Phi(n)$ is easy if factorization of $n$ is known, otherwise infeasible for large numbers.\n",
    "- Note that if $ GCD(m, n) = 1 $, then $$ \\Phi(mn) = \\Phi(m) \\cdot \\Phi(n) $$"
   ]
  },
  {
   "cell_type": "code",
   "execution_count": 9,
   "metadata": {},
   "outputs": [
    {
     "name": "stdout",
     "output_type": "stream",
     "text": [
      "1\n",
      "2\n",
      "4\n",
      "6 \n",
      "\n",
      "8 \n",
      "\n",
      "24\n"
     ]
    }
   ],
   "source": [
    "print(euler_phi(1))\n",
    "print(euler_phi(4))\n",
    "print(euler_phi(5))\n",
    "print(euler_phi(7), '\\n')\n",
    "\n",
    "\n",
    "print(euler_phi(4 * 5), '\\n')   # Phi 4 = 2, Phi 5 = 4, 2 * 4 = 8\n",
    "print(euler_phi(5 * 7))         # Phi 5 = 4, Phi 7 = 6, 6 * 4 = 24"
   ]
  },
  {
   "cell_type": "markdown",
   "metadata": {},
   "source": [
    "### Distribution of Prime Numbers\n",
    "\n",
    "Euclid's Theorem: There are infinitely many primes:\n",
    "\n",
    "- Let $ \\pi(x) = \\#\\{p \\in \\mathbb{N} \\text{ such that } p \\le x \\text{ is a prime} \\} $\n",
    "- The function $\\pi(x)$ is asymptotic to $ \\frac{x}{\\log(x)} $ in the sense that:\n",
    "\n",
    "#### $$ \\lim_{x \\rightarrow \\infty} \\frac{\\pi(x)}{\\frac{x}{\\log(x)}} = 1$$"
   ]
  },
  {
   "cell_type": "code",
   "execution_count": 10,
   "metadata": {},
   "outputs": [
    {
     "data": {
      "image/png": "[encoded data removed]",
      "text/plain": [
       "Graphics object consisting of 2 graphics primitives"
      ]
     },
     "metadata": {},
     "output_type": "display_data"
    }
   ],
   "source": [
    "P = plot(prime_pi, 2, 20000000, rgbcolor='red')\n",
    "\n",
    "Q = plot(x/log(x), 2, 20000000, rgbcolor='blue')\n",
    "\n",
    "show(P + Q, xmin=0, figsize=[8, 4])"
   ]
  }
 ],
 "metadata": {
  "kernelspec": {
   "display_name": "SageMath 10.0",
   "language": "sage",
   "name": "sagemath"
  },
  "language_info": {
   "codemirror_mode": {
    "name": "ipython",
    "version": 3
   },
   "file_extension": ".py",
   "mimetype": "text/x-python",
   "name": "python",
   "nbconvert_exporter": "python",
   "pygments_lexer": "ipython3",
   "version": "3.10.12"
  },
  "orig_nbformat": 4
 },
 "nbformat": 4,
 "nbformat_minor": 2
}
