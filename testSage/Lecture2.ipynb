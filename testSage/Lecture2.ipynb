{
 "cells": [
  {
   "cell_type": "markdown",
   "metadata": {},
   "source": [
    "## Lecture 2: SageMath Functions Check"
   ]
  },
  {
   "cell_type": "markdown",
   "metadata": {},
   "source": [
    "#### Primality Testing:"
   ]
  },
  {
   "cell_type": "code",
   "execution_count": 3,
   "metadata": {
    "vscode": {
     "languageId": "python"
    }
   },
   "outputs": [
    {
     "name": "stdout",
     "output_type": "stream",
     "text": [
      "True\n",
      "False\n"
     ]
    }
   ],
   "source": [
    "print(is_prime(7))\n",
    "print(is_prime(12))"
   ]
  },
  {
   "cell_type": "markdown",
   "metadata": {},
   "source": [
    "#### Random Prime From $2$ to $a$:"
   ]
  },
  {
   "cell_type": "code",
   "execution_count": 4,
   "metadata": {
    "vscode": {
     "languageId": "python"
    }
   },
   "outputs": [
    {
     "name": "stdout",
     "output_type": "stream",
     "text": [
      "751\n"
     ]
    }
   ],
   "source": [
    "a = 1000\n",
    "\n",
    "print(random_prime(a, True))"
   ]
  },
  {
   "cell_type": "markdown",
   "metadata": {},
   "source": [
    "#### Random Prime from $a$ to $b$:\n",
    " - This is pseudo-primality (it is not always prime)"
   ]
  },
  {
   "cell_type": "code",
   "execution_count": 6,
   "metadata": {
    "vscode": {
     "languageId": "python"
    }
   },
   "outputs": [
    {
     "name": "stdout",
     "output_type": "stream",
     "text": [
      "1741\n"
     ]
    }
   ],
   "source": [
    "a = 100\n",
    "b = 2000\n",
    "\n",
    "print(random_prime(b, True, a))"
   ]
  },
  {
   "cell_type": "markdown",
   "metadata": {},
   "source": [
    "#### List all primes in the interval $[a, \\, b-1]$"
   ]
  },
  {
   "cell_type": "code",
   "execution_count": 8,
   "metadata": {
    "vscode": {
     "languageId": "python"
    }
   },
   "outputs": [
    {
     "name": "stdout",
     "output_type": "stream",
     "text": [
      "[2, 3, 5, 7, 11]\n"
     ]
    }
   ],
   "source": [
    "a = 0\n",
    "b = 13\n",
    "\n",
    "print(prime_range(a, b))"
   ]
  },
  {
   "cell_type": "markdown",
   "metadata": {},
   "source": [
    "#### List all Composite Numbers in the interval $[a, \\, b-1]$\n",
    " - Don't forget the **square brackets** for the 1-liner"
   ]
  },
  {
   "cell_type": "code",
   "execution_count": 13,
   "metadata": {
    "vscode": {
     "languageId": "python"
    }
   },
   "outputs": [
    {
     "name": "stdout",
     "output_type": "stream",
     "text": [
      "[0, 1, 4, 6, 8, 9, 10, 12] \n",
      "\n",
      "0\n",
      "1\n",
      "4\n",
      "6\n",
      "8\n",
      "9\n",
      "10\n",
      "12\n"
     ]
    }
   ],
   "source": [
    "print([i for i in range(0, 13) if not is_prime(i)], '\\n')\n",
    "\n",
    "for i in range(0, 13):\n",
    "    if not is_prime(i):\n",
    "        print(i)"
   ]
  },
  {
   "cell_type": "markdown",
   "metadata": {},
   "source": [
    "#### Greatest Common Divisor: $\\text{gcd}(a, b)$"
   ]
  },
  {
   "cell_type": "code",
   "execution_count": 15,
   "metadata": {
    "vscode": {
     "languageId": "python"
    }
   },
   "outputs": [
    {
     "name": "stdout",
     "output_type": "stream",
     "text": [
      "70\n",
      "70\n",
      "70\n",
      "70\n",
      "70\n",
      "70\n",
      "70\n"
     ]
    }
   ],
   "source": [
    "a = 910; b = 1050\n",
    "\n",
    "print(gcd(a, b))\n",
    "print(gcd(a, b-a))\n",
    "print(gcd(a, b+a))\n",
    "print(gcd(-a, b))\n",
    "print(gcd(a, -b))\n",
    "print(gcd(-a, -b))\n",
    "print(gcd(b, a))"
   ]
  },
  {
   "cell_type": "markdown",
   "metadata": {},
   "source": [
    "#### Euclidean Algorithm For Computing GCD:\n",
    " - Inputs: Two non-negative integers $a$ and $b$ with $a \\ge b$\n",
    " - Outputs: $\\text{gcd}(a, b)$\n",
    " - If $GCD = 1$ then $a$ and $b$ are 'relatively prime'\n",
    " - Runtime: $O(\\log^{2}(n))$"
   ]
  },
  {
   "cell_type": "code",
   "execution_count": 1,
   "metadata": {
    "vscode": {
     "languageId": "python"
    }
   },
   "outputs": [
    {
     "name": "stdout",
     "output_type": "stream",
     "text": [
      "Start: gcd(123412344444, 4244)\n",
      "\n",
      "gcd(4244, 3200)\n",
      "\n",
      "gcd(3200, 1044)\n",
      "\n",
      "gcd(1044, 68)\n",
      "\n",
      "gcd(68, 24)\n",
      "\n",
      "gcd(24, 20)\n",
      "\n",
      "gcd(20, 4)\n",
      "\n",
      "gcd(4, 0)\n",
      "\n",
      "The GCD of 123412344444 and 4244 = 4\n",
      "\n",
      "SageMath: gcd(123412344444, 4244) = 4\n",
      "\n",
      "4 === 4 ? True\n"
     ]
    }
   ],
   "source": [
    "def myGCD(high, low, toPrint = True):\n",
    "    while low != 0:\n",
    "        result = high % low\n",
    "        high = low\n",
    "        low = result\n",
    "        if toPrint == True:\n",
    "            print(f'gcd{high, low}\\n')\n",
    "    return high\n",
    "\n",
    "# High = a, low = b\n",
    "\n",
    "def gcdMatch(i, j):\n",
    "    match = False\n",
    "    if i == j:\n",
    "        match = True\n",
    "    return match\n",
    "\n",
    "a = 123412344444; b = 4244\n",
    "print(f'Start: gcd{a, b}\\n')\n",
    "\n",
    "theGCD = myGCD(a, b)\n",
    "print(f'The GCD of {a} and {b} = {theGCD}\\n')\n",
    "\n",
    "print(f'SageMath: gcd{a, b} = {gcd(a, b)}\\n')\n",
    "\n",
    "print(f'{gcd(a, b)} === {myGCD(a, b, False)} ? {gcdMatch(gcd(a, b), myGCD(a, b, False))}')"
   ]
  },
  {
   "cell_type": "markdown",
   "metadata": {},
   "source": [
    "#### Negative Numbers In A Finite Field:\n",
    " - Just another way to express a positive number."
   ]
  },
  {
   "cell_type": "code",
   "execution_count": 3,
   "metadata": {
    "vscode": {
     "languageId": "python"
    }
   },
   "outputs": [
    {
     "name": "stdout",
     "output_type": "stream",
     "text": [
      "-5 % 17 = 12\n",
      "12 % 17 = 12\n",
      "Does (-5 % 17) == (12 % 17) ? True\n"
     ]
    }
   ],
   "source": [
    "print(f'-5 % 17 = {-5 % 17}')\n",
    "print(f'12 % 17 = {12 % 17}')\n",
    "print(f'Does (-5 % 17) == (12 % 17) ? {(-5 % 17) == 12 % 17}')"
   ]
  },
  {
   "cell_type": "markdown",
   "metadata": {},
   "source": [
    "#### gcd() and xgcd()"
   ]
  },
  {
   "cell_type": "code",
   "execution_count": 4,
   "metadata": {
    "vscode": {
     "languageId": "python"
    }
   },
   "outputs": [
    {
     "name": "stdout",
     "output_type": "stream",
     "text": [
      "gcd(32, 17) = 1\n",
      "\n",
      "xgcd(32, 17) = (1, 8, -15)\n",
      "\n",
      "inverse_mod(32, 17) = 8\n"
     ]
    }
   ],
   "source": [
    "print(f'gcd(32, 17) = {gcd(32, 17)}\\n')\n",
    "\n",
    "print(f'xgcd(32, 17) = {xgcd(32, 17)}\\n')\n",
    "\n",
    "print(f'inverse_mod(32, 17) = {inverse_mod(32, 17)}')"
   ]
  }
 ],
 "metadata": {
  "kernelspec": {
   "display_name": "SageMath 10.0",
   "language": "sage",
   "name": "sagemath"
  },
  "language_info": {
   "codemirror_mode": {
    "name": "ipython",
    "version": 3
   },
   "file_extension": ".py",
   "mimetype": "text/x-python",
   "name": "sage",
   "nbconvert_exporter": "python",
   "pygments_lexer": "ipython3",
   "version": "3.10.12"
  },
  "orig_nbformat": 4
 },
 "nbformat": 4,
 "nbformat_minor": 2
}
