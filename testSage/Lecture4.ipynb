{
 "cells": [
  {
   "cell_type": "markdown",
   "metadata": {},
   "source": [
    "Joel Brigida\n",
    "\n",
    "CDA-4321: Cryptographic Engineering\n",
    "\n",
    "Lecture 4 Functions For Assignment 1"
   ]
  },
  {
   "cell_type": "markdown",
   "metadata": {},
   "source": [
    "Factoring 19 decimal digits / 61 binary bit number:"
   ]
  },
  {
   "cell_type": "code",
   "execution_count": 1,
   "metadata": {
    "vscode": {
     "languageId": "python"
    }
   },
   "outputs": [
    {
     "name": "stdout",
     "output_type": "stream",
     "text": [
      "CPU times: user 2.72 ms, sys: 247 µs, total: 2.97 ms\n",
      "Wall time: 3.61 ms\n"
     ]
    },
    {
     "data": {
      "text/plain": [
       "1073741827 * 1073741831"
      ]
     },
     "execution_count": 1,
     "metadata": {},
     "output_type": "execute_result"
    }
   ],
   "source": [
    "time factor(1152921515344265237)"
   ]
  },
  {
   "cell_type": "markdown",
   "metadata": {},
   "source": [
    "Factoring 55 decimal digits = 182 binary bit number"
   ]
  },
  {
   "cell_type": "code",
   "execution_count": 2,
   "metadata": {
    "vscode": {
     "languageId": "python"
    }
   },
   "outputs": [
    {
     "name": "stdout",
     "output_type": "stream",
     "text": [
      "CPU times: user 1.28 s, sys: 10.9 ms, total: 1.29 s\n",
      "Wall time: 1.29 s\n"
     ]
    },
    {
     "data": {
      "text/plain": [
       "1237940039285380274899124357 * 2475880078570760549798248507"
      ]
     },
     "execution_count": 2,
     "metadata": {},
     "output_type": "execute_result"
    }
   ],
   "source": [
    "time factor(3064991081731777716716694456631131134986067586582584999)"
   ]
  },
  {
   "cell_type": "markdown",
   "metadata": {},
   "source": [
    "Multiplicative Inverse:\n",
    "\n",
    "Find Multiplicative Inverse of 32 modulo 17\n",
    "\n",
    "Note that: $$ 32^{-1} \\bmod 17 = 8 $$"
   ]
  },
  {
   "cell_type": "code",
   "execution_count": 3,
   "metadata": {
    "vscode": {
     "languageId": "python"
    }
   },
   "outputs": [
    {
     "name": "stdout",
     "output_type": "stream",
     "text": [
      "GCD(32, 17) = 1\n",
      "\n",
      "inverse_mod(32, 17) = 8\n",
      "\n",
      "32 % 17 = 15\n",
      "\n",
      "XGCD(32, 17) = (1, 8, -15)\n"
     ]
    }
   ],
   "source": [
    "print(f'GCD(32, 17) = {gcd(32, 17)}\\n')\n",
    "\n",
    "print(f'inverse_mod(32, 17) = {inverse_mod(32, 17)}\\n')\n",
    "\n",
    "print(f'32 % 17 = {32 % 17}\\n')\n",
    "\n",
    "print(f'XGCD(32, 17) = {xgcd(32, 17)}')"
   ]
  }
 ],
 "metadata": {
  "kernelspec": {
   "display_name": "SageMath 10.0",
   "language": "sage",
   "name": "sagemath"
  },
  "language_info": {
   "codemirror_mode": {
    "name": "ipython",
    "version": 3
   },
   "file_extension": ".py",
   "mimetype": "text/x-python",
   "name": "sage",
   "nbconvert_exporter": "python",
   "pygments_lexer": "ipython3",
   "version": "3.10.12"
  },
  "orig_nbformat": 4
 },
 "nbformat": 4,
 "nbformat_minor": 2
}
