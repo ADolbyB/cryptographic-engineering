{
 "cells": [
  {
   "cell_type": "markdown",
   "metadata": {},
   "source": [
    "### Joel Brigida\n",
    "\n",
    "### CDA:4321 Cryptographic Engineering\n",
    "\n",
    "### Sage Math Functions for ML-KEM/Kyber"
   ]
  },
  {
   "cell_type": "markdown",
   "metadata": {},
   "source": [
    "Polynomial Multiplication SageMath Code"
   ]
  },
  {
   "cell_type": "code",
   "execution_count": 1,
   "metadata": {},
   "outputs": [],
   "source": [
    "def schoolbook_poly_multiplication (A, B, q, n):\n",
    "    a,b = A,B\n",
    "    new_coeffs = [0 for _ in range (2*n)]\n",
    "    for i in range(n):\n",
    "        for j in range(0, n):\n",
    "            new_coeffs[i + j] += (a[i] * b[j])\n",
    "    return [c % q for c in new_coeffs]"
   ]
  },
  {
   "cell_type": "markdown",
   "metadata": {},
   "source": [
    "Cyclic and Negacyclic Convolution SageMath Code"
   ]
  },
  {
   "cell_type": "code",
   "execution_count": 2,
   "metadata": {},
   "outputs": [],
   "source": [
    "def schoolbook_convolution (A, B, q, n,convolution):\n",
    "    a,b = A,B\n",
    "    new_coeffs = [0 for _ in range(n)]\n",
    "    for i in range(n):\n",
    "        for j in range(0, n-i):\n",
    "            new_coeffs[i+j] += (a[i] * b[j])\n",
    "\n",
    "    for j in range(1, n):\n",
    "        for i in range(n-j, n):\n",
    "            if convolution == \"negacyclic\":\n",
    "                new_coeffs[i+j-n] -= (a[i] * b[j])\n",
    "            elif convolution == \"cyclic\":\n",
    "                new_coeffs[i+j-n] += (a[i] * b[j])\n",
    "\n",
    "    return [c % q for c in new_coeffs]"
   ]
  },
  {
   "cell_type": "markdown",
   "metadata": {},
   "source": [
    "SageMath Code for Finding a Primitive Root of Unity"
   ]
  },
  {
   "cell_type": "code",
   "execution_count": 3,
   "metadata": {},
   "outputs": [],
   "source": [
    "def primitiveRootOfUnity (n, q):\n",
    "    for i in range(2, q):\n",
    "        if pow(i, n, q) == 1:\n",
    "            primitive = True\n",
    "\n",
    "    for j in range(n - 1, 0, -1):\n",
    "        if pow(i, j, q) == 1:\n",
    "            primitive = False\n",
    "            break\n",
    "\n",
    "    if primitive:\n",
    "        return i\n",
    "    raise Exception(f\"{n}th root of unity mod {q} does not exist\")"
   ]
  },
  {
   "cell_type": "markdown",
   "metadata": {},
   "source": [
    "Negacyclic NTT and Inverse NTT SageMath Code"
   ]
  },
  {
   "cell_type": "code",
   "execution_count": 4,
   "metadata": {},
   "outputs": [],
   "source": [
    "def negacyclic_NTT(v, w, N, n, inv=False):\n",
    "    y = []\n",
    "    s = v\n",
    "    for i in range(0, n):\n",
    "        t = 0\n",
    "        for j in range(0, n):\n",
    "            if inv:\n",
    "                t += s[j] * pow(w, 2 * (-i)*j, N)\n",
    "                ninv = pow(n, -1, N)\n",
    "            else:\n",
    "                t += s[j] * w^(j) * w^(2*i*j)\n",
    "            t %= N\n",
    "        if inv:\n",
    "            t *= pow(n, -1, N)\n",
    "            t *= pow(w, -i, N)\n",
    "            t %= N\n",
    "        y.append(t)\n",
    "    return y"
   ]
  }
 ],
 "metadata": {
  "kernelspec": {
   "display_name": "SageMath 10.0",
   "language": "sage",
   "name": "sagemath"
  },
  "language_info": {
   "codemirror_mode": {
    "name": "ipython",
    "version": 3
   },
   "file_extension": ".py",
   "mimetype": "text/x-python",
   "name": "python",
   "nbconvert_exporter": "python",
   "pygments_lexer": "ipython3",
   "version": "3.10.12"
  }
 },
 "nbformat": 4,
 "nbformat_minor": 2
}
