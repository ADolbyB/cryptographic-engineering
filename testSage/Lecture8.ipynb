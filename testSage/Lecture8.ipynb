{
 "cells": [
  {
   "cell_type": "markdown",
   "metadata": {},
   "source": [
    "### Joel Brigida\n",
    "\n",
    "### CDA-4321: Cryptographic Engineering\n",
    "\n",
    "### Sage Code for ECC: Elliptical Curve Cryptography"
   ]
  },
  {
   "cell_type": "code",
   "execution_count": 1,
   "metadata": {},
   "outputs": [
    {
     "name": "stdout",
     "output_type": "stream",
     "text": [
      "pp = 0xffffffffffffffffffffffffffffffffffffffffffffffffffffffffffffffd\n",
      "total bit length of pp = 252\n",
      "0xD in binary = 0b1101\n",
      "0b1101\n"
     ]
    }
   ],
   "source": [
    "p = 2^255 - 19\n",
    "pp = (p - 5) // 8\n",
    "\n",
    "print(f'pp = {hex(pp)}')\n",
    "print(f'total bit length of pp = {pp.bit_length()}')  # total length of `pp`\n",
    "print(f'0xD in binary = {bin(0xd)}')\n",
    "print(bin(0xd))"
   ]
  },
  {
   "cell_type": "code",
   "execution_count": 2,
   "metadata": {},
   "outputs": [
    {
     "name": "stdout",
     "output_type": "stream",
     "text": [
      "p = 0x7fffffffffffffffffffffffffffffffffffffffffffffffffffffffffffffed\n"
     ]
    }
   ],
   "source": [
    "print(f'p = {hex(p)}') # prime modulus"
   ]
  },
  {
   "cell_type": "markdown",
   "metadata": {},
   "source": [
    "### Constants:"
   ]
  },
  {
   "cell_type": "code",
   "execution_count": 3,
   "metadata": {},
   "outputs": [],
   "source": [
    "p = 2^255 - 19\n",
    "a = 0x2aaaaaaaaaaaaaaaaaaaaaaaaaaaaaaaaaaaaaaaaaaaaaaaaaaaaa984914a144\n",
    "b = 0x7b425ed097b425ed097b425ed097b425ed097b425ed097b4260b5e9c7710c864\n",
    "Gx = 0x2aaaaaaaaaaaaaaaaaaaaaaaaaaaaaaaaaaaaaaaaaaaaaaaaaaaaaaaaaad245a\n",
    "Gy = 0x5f51e65e475f794b1fe122d388b72eb36dc2b28192839e4dd6163a5d81312c14"
   ]
  },
  {
   "cell_type": "code",
   "execution_count": 4,
   "metadata": {},
   "outputs": [
    {
     "name": "stdout",
     "output_type": "stream",
     "text": [
      "G = (19298681539552699237261830834781317975544997444273427339909597334652188435546 : 43114425171068552920764898935933967039370386198203806730763910166200978582548 : 1)\n",
      "\n",
      "pk = 0x4a08eb868647c36d7b02e42a04d041de0391715e71b7c0a15d86bc5c46ba8e3f\n",
      "\n",
      "T = (33486911108845657824556496124813443090212173285153853565872592004249248501311 : 7860921102172468758001160037503328602235255120896215246392815054724963959308 : 1)\n",
      "\n",
      "yCoord = 0x4a3691bfac0a1c047e247f3a5d81edd558ffd2708db6d6b7cbf3d8b1b6db3c32\n",
      "\n",
      "ss = 7385100590267130821247075643465749176655100040357896990098864696422221080910\n"
     ]
    }
   ],
   "source": [
    "E = EllipticCurve(GF(p), [a, b])\n",
    "G = E(Gx, Gy)               # Generator point (public)\n",
    "print(f'G = {G}')\n",
    "\n",
    "sk = 0x5a4c15d51209bdb902a5509229047c35a55f69658bd934e5568d8987ce3610b0\n",
    "\n",
    "pk = (sk * G)[0]            # Need to generate the secret key and return the X coordinate (1st index in the tuple)\n",
    "print(f'\\npk = {hex(pk)}\\n')\n",
    "\n",
    "T = E.lift_x(pk)            # pk is only the X-coordinate of a point, we need the Y-coordinate\n",
    "print(f'T = {T}\\n')\n",
    "\n",
    "yCoord = (pk * G)[0]\n",
    "print(f'yCoord = {hex(yCoord)}\\n')\n",
    "\n",
    "ss = (sk * T)[0]            # last we need to generate a shared key\n",
    "print(f'ss = {ss}')"
   ]
  },
  {
   "cell_type": "markdown",
   "metadata": {},
   "source": [
    "### Practice Questions for Final:"
   ]
  },
  {
   "cell_type": "code",
   "execution_count": 5,
   "metadata": {},
   "outputs": [
    {
     "name": "stdout",
     "output_type": "stream",
     "text": [
      " Q = (42 : 52 : 1)\n",
      "-Q = (42 : 19 : 1)\n",
      "4 times P = (36 : 51 : 1)\n",
      "P + Q = (12 : 6 : 1)\n"
     ]
    }
   ],
   "source": [
    "# p = 2^255 - 19    # Define a pseudo-mersenne prime modulus\n",
    "# Create an Elliptic Curve over Fp with equation: y^2 = x^3 + a*x + b\n",
    "# E = EllipticCurve(GF(p), [a, b])\n",
    "\n",
    "# Define the elliptic curve E over the finite field GF(p)\n",
    "E = EllipticCurve(GF(71), [1, 0])\n",
    "\n",
    "# Choose a random point P on the curve E to be used as the base point\n",
    "P = E.random_point()\n",
    "\n",
    "Q = 13 * P                  # Point Q is 13 times point P\n",
    "Q1 = -Q                     # Point Q1 is the opposite of point Q\n",
    "print(f' Q = {Q}\\n-Q = {Q1}')\n",
    "\n",
    "student = 4 * P             # Z number: Last digit of Z number multiplied by point P\n",
    "print(f'4 times P = {student}')\n",
    "\n",
    "d = P + Q                   # Point d is point P + point Q\n",
    "print(f'P + Q = {d}')"
   ]
  },
  {
   "cell_type": "code",
   "execution_count": 28,
   "metadata": {},
   "outputs": [
    {
     "name": "stdout",
     "output_type": "stream",
     "text": [
      "Point O @ Infinity: (0 : 1 : 0)\n",
      "Order of Point @ Infinity: 1\n",
      "\n",
      "Point T = (30709201983114908762975624049481003411875532343594588613049040956831830321339 : 32133802658152515099221041676228436523120874665654002416124827598521572728153 : 1)\n",
      "Order of T = 57896044618658097711785492504343953926856930875039260848015607506283634007912\n",
      "# of bits of K: 256\n",
      "\n",
      "T[0] x = 30709201983114908762975624049481003411875532343594588613049040956831830321339\n",
      "T[1] y = 32133802658152515099221041676228436523120874665654002416124827598521572728153\n",
      "\n",
      "Point R = P + Q: (12 : 6 : 1)\n",
      "\n",
      "Point W = [15]P: (53 : 16 : 1)\n",
      "\n",
      "Point X = -P: (22 : 34 : 1)\n",
      "\n",
      "Point V = [2]P = (6 : 68 : 1)\n",
      "Point V2 = P + P = (6 : 68 : 1)\n",
      "Point V and V2 are equal ? True\n"
     ]
    }
   ],
   "source": [
    "# Finite field Fp\n",
    "U = GF(p)\n",
    "\n",
    "# Scalar Value 's'\n",
    "s = 15\n",
    "\n",
    "# Create an Elliptic Curve over Fp with equation: y^2 = x^3 + a*x + b\n",
    "E = EllipticCurve(GF(p), [a, b])\n",
    "\n",
    "# Point at infinity.\n",
    "# Note when printing point at infinity, sage will show (0:1:0)\n",
    "O = E(0)\n",
    "j = O.order()\n",
    "print(f'Point O @ Infinity: {O}\\nOrder of Point @ Infinity: {j}\\n')\n",
    "\n",
    "# Point with coordinates (x, y).\n",
    "# Choose a random point P on the curve E to be used as the base point\n",
    "T = E.random_point()\n",
    "print(f'Point T = {T}')\n",
    "\n",
    "# Order of point T\n",
    "k = T.order()\n",
    "print(f'Order of T = {k}')\n",
    "# Number of bits of number k. Note: number of bits of k is ⌈log_2 k⌉.\n",
    "print(f'# of bits of K: {k.nbits()}\\n')\n",
    "\n",
    "# The point coordinates x and y are stored in an array. To access them,\n",
    "x = T[0]\n",
    "y = T[1]\n",
    "\n",
    "# Note when printing any point other than point at infinity, sage will show (x:y:1)\n",
    "# P = E(x, y)\n",
    "print(f'T[0] x = {x}\\nT[1] y = {y}\\n')\n",
    "\n",
    "# Point Addition R = P + Q: Adding two points P and Q\n",
    "R = P + Q\n",
    "print(f'Point R = P + Q: {R}\\n')\n",
    "\n",
    "# Point Multiplication W = [s]P : Multiplying P by scalar s\n",
    "W = s * P\n",
    "print(f'Point W = [{s}]P: {W}\\n')\n",
    "\n",
    "# Point Inversion X = −P : P + R = point at infinity\n",
    "# Note if P = (x, y), then this is just R = (x, −y)\n",
    "X = -P\n",
    "print(f'Point X = -P: {X}\\n')\n",
    "\n",
    "# Point Doubling V = P + P = [2]P : Doubling a point P\n",
    "V = 2 * P\n",
    "V2 = P + P\n",
    "print(f'Point V = [2]P = {V}\\nPoint V2 = P + P = {V2}')\n",
    "print(f'Point V and V2 are equal ? {V == V2}')"
   ]
  }
 ],
 "metadata": {
  "kernelspec": {
   "display_name": "SageMath 10.0",
   "language": "sage",
   "name": "sagemath"
  },
  "language_info": {
   "codemirror_mode": {
    "name": "ipython",
    "version": 3
   },
   "file_extension": ".py",
   "mimetype": "text/x-python",
   "name": "python",
   "nbconvert_exporter": "python",
   "pygments_lexer": "ipython3",
   "version": "3.10.12"
  }
 },
 "nbformat": 4,
 "nbformat_minor": 2
}
