{
 "cells": [
  {
   "cell_type": "markdown",
   "metadata": {},
   "source": [
    "### Joel Brigida\n",
    "\n",
    "### CDA4321: Cryptographic Engineering\n",
    "\n",
    "### Lecture 5: Code for Assignment 2"
   ]
  },
  {
   "cell_type": "markdown",
   "metadata": {},
   "source": [
    "### Multi-Precision Arithmetic:\n",
    " - If processor word size = 64-bit\n",
    "     - Split a 256-bit number into a 4 index array of 64-bit numbers\n",
    " - If processor word size = 32-bit\n",
    "     - Split a 256-but number into an 8 index array of 32-bit numbers\n",
    "\n",
    "### $ res[0] = a[0] + b[0] $\n",
    "### $ res[1] = a[1] + b[1] + \\text{carry from } res[0] $\n",
    "### $ res[2] = a[2] + b[2] + \\text{carry from } res[1] $\n",
    "### $ ... $\n",
    "\n",
    " - For a 256-bit number & 64-bit word size: use an array with 8 64-bit indices (Total allocation = 512 bits).\n",
    "     - Every even index will contain 0's and used only to deal with the carry"
   ]
  },
  {
   "cell_type": "code",
   "execution_count": 1,
   "metadata": {
    "vscode": {
     "languageId": "python"
    }
   },
   "outputs": [
    {
     "name": "stdout",
     "output_type": "stream",
     "text": [
      "0x1234 - 0x4321 = -0x30ed\n",
      "\n",
      "[-1, 0, -1, -1, 0, -1, -1, -1, 0, 0, 0, 0, -1, -1] \n",
      "\n",
      "-0x30ed \n",
      "\n",
      "[-1, 0, -1, -1, 0, -1, -1, -1, 0, 0, 0, 0, -1, -1] \n",
      "\n",
      "[-1, 0, -1, -1, 0, -1, -1, -1, 0, 0, 0, 0, -1, -1]\n",
      "[-1, -1, 0, 0, 0, 0, -1, -1, -1, 0, -1, -1, 0, -1]\n"
     ]
    }
   ],
   "source": [
    "result = 0x1234 - 0x4321\n",
    "result2 = 0x1234 + (-0x4321)\n",
    "print(f'{hex(0x1234)} - {hex(0x4321)} = {hex(result)}\\n')\n",
    "print(result.bits(), '\\n')\n",
    "print(hex(result2), '\\n')\n",
    "print(result.bits(), '\\n')\n",
    "bitList = list(result.bits())\n",
    "print(bitList)\n",
    "\n",
    "revBitList = bitList[::-1]\n",
    "print(revBitList)"
   ]
  },
  {
   "cell_type": "code",
   "execution_count": 2,
   "metadata": {
    "vscode": {
     "languageId": "python"
    }
   },
   "outputs": [
    {
     "name": "stdout",
     "output_type": "stream",
     "text": [
      "[1, 1, 0, 0, 1, 0, 0, 0, 1, 1, 1, 1, 0, 0, 1, 1, 1, 1, 1, 1, 1, 1, 1, 1, 1, 1, 1, 1, 1, 1, 1, 1]  MSB on Right\n",
      "\n",
      "[1, 1, 1, 1, 1, 1, 1, 1, 1, 1, 1, 1, 1, 1, 1, 1, 1, 1, 0, 0, 1, 1, 1, 1, 0, 0, 0, 1, 0, 0, 1, 1]  MSB on Left\n",
      "\n"
     ]
    }
   ],
   "source": [
    "result3 = 0xFFFFCF13\n",
    "\n",
    "print(result3.bits(), ' MSB on Right\\n')\n",
    "bitlist2 = result3.bits()\n",
    "revBitList2 = bitlist2[::-1]\n",
    "print(revBitList2, ' MSB on Left\\n')"
   ]
  },
  {
   "cell_type": "code",
   "execution_count": 3,
   "metadata": {
    "vscode": {
     "languageId": "python"
    }
   },
   "outputs": [
    {
     "name": "stdout",
     "output_type": "stream",
     "text": [
      "[13, 11, 10, 2, 11, 0, 2, 10, 10, 4, 7, 6, 6, 14, 5, 3, 9, 7, 10, 5, 5, 12, 14, 5, 11, 6, 6, 13, 7, 8, 12, 5, 0, 1, 4, 7, 4, 2] \n",
      "\n",
      "['0x000d', '0x000b', '0x000a', '0x0002', '0x000b', '0x0000', '0x0002', '0x000a', '0x000a', '0x0004', '0x0007', '0x0006', '0x0006', '0x000e', '0x0005', '0x0003', '0x0009', '0x0007', '0x000a', '0x0005', '0x0005', '0x000c', '0x000e', '0x0005', '0x000b', '0x0006', '0x0006', '0x000d', '0x0007', '0x0008', '0x000c', '0x0005', '0x0000', '0x0001', '0x0004', '0x0007', '0x0004', '0x0002'] \n",
      "\n",
      "1099373473126\n"
     ]
    }
   ],
   "source": [
    "a = 812937419827341987234918723501982375897410237 # A very large number\n",
    "d = 4 # base 2^d: octal = 2^3 = 8, hex = 2^4 = 16\n",
    "s = 4\n",
    "print(a.digits(2^d), '\\n') # print in octal or hex format\n",
    "\n",
    "n = 4 # number of hex digits in each array index\n",
    "hexArray = [\"0x{0:0{1}x}\".format(x,n) for x in a.digits(base=2^d,padto=s)]\n",
    "print(hexArray, '\\n')\n",
    "\n",
    "v = 0xFFF7C3ED66\n",
    "print(Integer(v))"
   ]
  },
  {
   "cell_type": "markdown",
   "metadata": {},
   "source": [
    "Source: https://nbviewer.org/urls/pastebin.com/raw/GJMCtHfA\n",
    "\n",
    "Modifications Mine."
   ]
  },
  {
   "cell_type": "code",
   "execution_count": 4,
   "metadata": {
    "vscode": {
     "languageId": "python"
    }
   },
   "outputs": [
    {
     "name": "stdout",
     "output_type": "stream",
     "text": [
      "0xfffffffe \n",
      "\n",
      "0xffffcf13 \n",
      "\n",
      "a = [0x00fa,0x0074,0x0035,0x0012,0x0000]\n"
     ]
    }
   ],
   "source": [
    "DATA_TYPE=32\n",
    "def addn(a, b, r=DATA_TYPE): return (a + b) % (2^r)\n",
    "def subn(a, b, r=DATA_TYPE): return (a - b) % (2^r)\n",
    "def muln(a, b, r=DATA_TYPE): return (a * b) % (2^r)\n",
    "def shift_leftn(a, b, r=DATA_TYPE):return (a >> b) % (2^r)\n",
    "def shift_rightn(a, b, r=DATA_TYPE):return (a << b) % (2^r)\n",
    "def andn(a, b, r=DATA_TYPE): return (a & b) % (2^r)\n",
    "def orn(a, b, r=DATA_TYPE): return (a & b) % (2^r)\n",
    "def xorn(a, b, r=DATA_TYPE): return (a.xor(b)) % (2^r)\n",
    "def notn(a, r=DATA_TYPE): return (~a) % (2^r)\n",
    "\n",
    "print(hex(subn(0x0, 0x2)), '\\n')\n",
    "print(hex(subn(0x1234, 0x4321)), '\\n')\n",
    "\n",
    "def print_integer_hex(a, base, padto, digits, s = \"\"):\n",
    "    print(s + \"[\" + ','.join([\"0x{0:0{1}x}\".format(x,digits) for x in a.digits(base=base,padto=padto)]) + \"]\")\n",
    "\n",
    "a = 0x123574fa\n",
    "print_integer_hex(a, 2^8, 5, 4, \"a = \")"
   ]
  }
 ],
 "metadata": {
  "kernelspec": {
   "display_name": "SageMath 10.0",
   "language": "sage",
   "name": "sagemath"
  },
  "language_info": {
   "codemirror_mode": {
    "name": "ipython",
    "version": 3
   },
   "file_extension": ".py",
   "mimetype": "text/x-python",
   "name": "sage",
   "nbconvert_exporter": "python",
   "pygments_lexer": "ipython3",
   "version": "3.10.12"
  },
  "orig_nbformat": 4
 },
 "nbformat": 4,
 "nbformat_minor": 2
}
