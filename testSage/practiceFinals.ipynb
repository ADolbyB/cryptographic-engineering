{
 "cells": [
  {
   "cell_type": "markdown",
   "metadata": {},
   "source": [
    "### Joel Brigida\n",
    "\n",
    "### CDA-4321: Cryptographic Engineering\n",
    "\n",
    "### Practice Final Questions"
   ]
  },
  {
   "cell_type": "code",
   "execution_count": 18,
   "metadata": {
    "vscode": {
     "languageId": "python"
    }
   },
   "outputs": [
    {
     "name": "stdout",
     "output_type": "stream",
     "text": [
      "Alices Public Key: (18720668206022712927505705567798880851148171071825574293489564828886581089633 : 24100515804300146996840665088940838577738305801342270189866642976775338337523 : 1)\n",
      "Size of Alices Public Key in bits: 254\n",
      "\n",
      "Bobs Public Key: (28549248162029722477544565166153456049871030938833678062219732017512489433764 : 5688245628093607449986884301254884664143195361639363602230772796333353189943 : 1)\n",
      "Size of Bobs Public Key in bits: 254\n",
      "\n",
      "\n",
      "ECDH key exchange successful.\n",
      "Shared secret: 11374277095616352591536295656117191295536169805237320728891702640170581364877\n",
      "Size of shared secret in bits: 253\n"
     ]
    }
   ],
   "source": [
    "# Define the prime p\n",
    "p = 2^255 - 19\n",
    "\n",
    "# Define the coefficients for the Montgomery curve\n",
    "A = 486662\n",
    "B = 1\n",
    "\n",
    "# p = 2^255 - 19    # Define a pseudo-mersenne prime modulus\n",
    "# Create an Elliptic Curve over Fp with equation: y^2 = x^3 + a*x + b\n",
    "# E = EllipticCurve(GF(p), [a, b])\n",
    "# Define the elliptic curve E over the finite field GF(p)\n",
    "E = EllipticCurve(GF(p), [0, A*B, 0, A, B])\n",
    "\n",
    "# Choose a random point P on the curve E to be used as the base point\n",
    "P = E.random_point()\n",
    "\n",
    "# Alice's private key\n",
    "a = 11\n",
    "\n",
    "# Bob's private key\n",
    "b = 22\n",
    "\n",
    "# Alice calculates her public key by multiplying the base point with her private key\n",
    "Pa = a * P\n",
    "\n",
    "# Bob calculates his public key by multiplying the base point with his private key\n",
    "Pb = b * P\n",
    "\n",
    "# Print Alice's public key and its size\n",
    "Pa_x = Pa[0].lift()\n",
    "size_Pa = Pa_x.nbits()\n",
    "print(f'Alices Public Key: {Pa}')\n",
    "print(f'Size of Alices Public Key in bits: {size_Pa}\\n')\n",
    "\n",
    "# Print Bob's public key and its size\n",
    "Pb_x = Pb[0].lift()\n",
    "size_Pb = Pb_x.nbits()\n",
    "print(f'Bobs Public Key: {Pb}')\n",
    "print(f'Size of Bobs Public Key in bits: {size_Pb}\\n\\n')\n",
    "\n",
    "# Alice calculates the shared secret using Bob's public key\n",
    "shared_secret_Alice = a * Pb\n",
    "\n",
    "# Bob calculates the shared secret using Alice's public key\n",
    "shared_secret_Bob = b * Pa\n",
    "\n",
    "# Check if both shared secrets are equal (they should be)\n",
    "if shared_secret_Alice == shared_secret_Bob:\n",
    "    print(\"ECDH key exchange successful.\")\n",
    "    # We typically use the x-coordinate as the shared secret\n",
    "    shared_secret = shared_secret_Alice[0].lift()\n",
    "    print(f'Shared secret: {shared_secret}')\n",
    "    print(f'Size of shared secret in bits: {shared_secret.nbits()}')\n",
    "else:\n",
    "    print(\"ECDH key exchange failed. Shared secrets are not equal.\")"
   ]
  },
  {
   "cell_type": "markdown",
   "metadata": {},
   "source": [
    "Practice Final: Spring 2017 Q1\n",
    "\n",
    "Let the two primes $p=41$ and $q=17$ be given as setup parameters for RSA\n",
    "- a) Which of the parameters $e_1 = 32$ and $e_2 = 49$ is a valid RSA exponent? Justify your answer.\n",
    "- b) Compute corresponding private key $ k_{\\mathrm{pr}} = (p, q, d) $. Use EEA for the inversion and point out your calculation steps. You can verify with Sage.\n",
    "\n",
    "The only valid exponent for RSA must have the following condition: $$ GCD(e_i, \\Phi_n) = 1 $$"
   ]
  },
  {
   "cell_type": "code",
   "execution_count": 1,
   "metadata": {
    "vscode": {
     "languageId": "python"
    }
   },
   "outputs": [
    {
     "name": "stdout",
     "output_type": "stream",
     "text": [
      "n = p * q = 697\n",
      "Phi_n = (p - 1) * (q - 1) = 640\n",
      "\n",
      "GCD(e_i, Phi_n) = GCD(32, 640) = 1\n",
      "GCD(e_i, Phi_n) = GCD(49, 640) = 32\n",
      "\n",
      "d = 209\n",
      "e^(-1) mod phi_n = 32^-1 % 640 = 209\n",
      "\n",
      "Private Key(p, q, d) = Private Key(41, 17, 209)\n"
     ]
    }
   ],
   "source": [
    "p = 41\n",
    "q = 17\n",
    "\n",
    "n = p * q\n",
    "phi_n = (p - 1) * (q - 1)\n",
    "\n",
    "print(f'n = p * q = {n}')\n",
    "print(f'Phi_n = (p - 1) * (q - 1) = {phi_n}\\n')\n",
    "\n",
    "e_1 = 32\n",
    "e_2 = 49\n",
    "\n",
    "print(f'GCD(e_i, Phi_n) = GCD{e_1, phi_n} = {gcd(49, 640)}')\n",
    "print(f'GCD(e_i, Phi_n) = GCD{e_2, phi_n} = {gcd(32, 640)}\\n')\n",
    "\n",
    "d = 49^(-1) % phi_n\n",
    "print(f'd = {d}')\n",
    "print(f'e^(-1) mod phi_n = {e_1}^-1 % {phi_n} = {49^(-1) % 640}\\n')\n",
    "\n",
    "## Therefore: Private Key(p, q, d):\n",
    "print(f'Private Key(p, q, d) = Private Key{p, q, d}')"
   ]
  },
  {
   "cell_type": "code",
   "execution_count": 6,
   "metadata": {
    "vscode": {
     "languageId": "python"
    }
   },
   "outputs": [
    {
     "name": "stdout",
     "output_type": "stream",
     "text": [
      "36\n"
     ]
    }
   ],
   "source": [
    "E = EllipticCurve(GF(37), [1,0])\n",
    "print(f'{E.cardinality()}')"
   ]
  }
 ],
 "metadata": {
  "kernelspec": {
   "display_name": "SageMath 10.0",
   "language": "sage",
   "name": "sagemath"
  },
  "language_info": {
   "codemirror_mode": {
    "name": "ipython",
    "version": 3
   },
   "file_extension": ".py",
   "mimetype": "text/x-python",
   "name": "sage",
   "nbconvert_exporter": "python",
   "pygments_lexer": "ipython3",
   "version": "3.10.12"
  }
 },
 "nbformat": 4,
 "nbformat_minor": 2
}
