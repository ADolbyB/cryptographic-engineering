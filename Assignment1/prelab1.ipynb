{
 "cells": [
  {
   "cell_type": "markdown",
   "metadata": {},
   "source": [
    "## Joel Brigida\n",
    "\n",
    "## CDA4321: Cryptographic Engineering\n",
    "\n",
    "## Prelab 1\n",
    "\n",
    "## 9/6/2023"
   ]
  },
  {
   "cell_type": "code",
   "execution_count": 1,
   "metadata": {},
   "outputs": [],
   "source": [
    "a = 2^30 - 18                   # Number to be reduced\n",
    "p1 = 2^17 - 1                   # Modulus 1 Mersenne Prime\n",
    "p2 = 2^26 - 5                   # Modulus 2 Pseudo-Mersenne Prime\n",
    "b = 2^16                        # A power of 2"
   ]
  },
  {
   "cell_type": "markdown",
   "metadata": {},
   "source": [
    "# Question 1\n",
    "\n",
    "## Question 1a) $$ a \\bmod p_1 $$"
   ]
  },
  {
   "cell_type": "code",
   "execution_count": 2,
   "metadata": {},
   "outputs": [
    {
     "name": "stdout",
     "output_type": "stream",
     "text": [
      "0x1ffff\n",
      "0x3fffffff \n",
      "\n",
      "a = 2^30 - 18 =  0x3fffffee\n",
      "p1 = 2^17 - 1 =  0x1ffff \n",
      "\n",
      "ah: (high 13 bits)  0x1fff\n",
      "al: (lower 17 bits)  0x1ffee \n",
      "\n",
      "r = ah + al = 18 bits = 0x21fed\n",
      "r > p1 ? True\n",
      "\n",
      "r -= p1 = 0x1fee\n",
      "r > p1 ? False\n",
      "\n",
      "Residue of a % p1 = 0x1fee\n",
      "Answer matches correct result ? True\n"
     ]
    }
   ],
   "source": [
    "ah = a >> 17                    # resulting operation is 13 bits\n",
    "al = p1 & a                     # need upper p1 as a mask: p1 = 0x1ffff (17 1's)\n",
    "\n",
    "print(hex(2^17 - 1))\n",
    "print(hex(2^30 - 1), '\\n')\n",
    "\n",
    "print('a = 2^30 - 18 = ', hex(a))\n",
    "print('p1 = 2^17 - 1 = ', hex(p1), '\\n')\n",
    "\n",
    "print('ah: (high 13 bits) ', hex(ah))\n",
    "print('al: (lower 17 bits) ', hex(al), '\\n')\n",
    "\n",
    "# print(f'hex(ah + al) = {hex(ah + al)}')\n",
    "\n",
    "r = ah + al                     # Add the lower and upper bits together\n",
    "print(f'r = ah + al = {r.nbits()} bits = {hex(r)}')\n",
    "print(f'r > p1 ? {r > p1}\\n')\n",
    "\n",
    "# Still at 18 bits, need to get to 17 bits ... what can I remove?\n",
    "\n",
    "r -= p1                         # subtract the 17 bit modulus from r\n",
    "print(f'r -= p1 = {hex(r)}')\n",
    "print(f'r > p1 ? {r > p1}\\n')\n",
    "\n",
    "print(f'Residue of a % p1 = {hex(r)}')\n",
    "print(f'Answer matches correct result ? {hex(r) == hex(a % p1)}')"
   ]
  },
  {
   "cell_type": "markdown",
   "metadata": {},
   "source": [
    "## Question 1b) $$ a \\bmod p2 $$"
   ]
  },
  {
   "cell_type": "code",
   "execution_count": 3,
   "metadata": {},
   "outputs": [
    {
     "name": "stdout",
     "output_type": "stream",
     "text": [
      "ah = 0xf\n",
      "al2 = 0x3ffffee\n",
      "r = 0x4000039 (before while loop)\n",
      "\n",
      "r: Residue of 0x3fffffee % 0x3fffffb = 0x3e\n",
      "\n"
     ]
    }
   ],
   "source": [
    "ah = a >> 26\n",
    "\n",
    "al = a & (2^26 - 1)\n",
    "ah = a >> 26                  # High Bits: Result is 4 bits 0xF\n",
    "print(f'ah = {hex(ah)}')\n",
    "\n",
    "al = a & (p2 + 4)             # Low bits: Lowest 26 bits of dividend: p2 + 4 = 26 1's\n",
    "print(f'al2 = {hex(al)}')\n",
    "\n",
    "r = (ah * 5) + al            # multiply by 5 because of the -5 in: p2 = 2^26 - 5\n",
    "print(f'r = {hex(r)} (before while loop)\\n')\n",
    "\n",
    "while(r >= p2):\n",
    "    r = r - p2\n",
    "\n",
    "print(f'r: Residue of {hex(a)} % {hex(p2)} = {hex(r)}\\n')"
   ]
  },
  {
   "cell_type": "markdown",
   "metadata": {},
   "source": [
    "## Question 1c) $$ a \\bmod b $$"
   ]
  },
  {
   "cell_type": "code",
   "execution_count": 4,
   "metadata": {},
   "outputs": [
    {
     "name": "stdout",
     "output_type": "stream",
     "text": [
      "2^16     = 0b10000000000000000\n",
      "2^16 - 1  = 0b1111111111111111\n",
      "\n",
      "Residue of a % b = 0xffee\n",
      "\n",
      "Answer matches correct result ? True\n"
     ]
    }
   ],
   "source": [
    "a = 2^30 - 18           # Number to be reduced\n",
    "b = 2^16                # A power of 2\n",
    "\n",
    "print(f'2^16     = {bin(2^16)}')\n",
    "print(f'2^16 - 1  = {bin(2^16 - 1)}\\n')\n",
    "\n",
    "c = a & (2^16 - 1)      # Mask 'a' == (a % 2^16)\n",
    "\n",
    "print(f'Residue of a % b = {hex(c)}\\n')\n",
    "print(f'Answer matches correct result ? {hex(c) == hex(a % b)}')"
   ]
  },
  {
   "cell_type": "markdown",
   "metadata": {},
   "source": [
    "# Question 2\n",
    "\n",
    "## Question 2a) FLT: Constant time regardless of input (depends on exponent) $$ a^{p-2} \\bmod p \\equiv a^{-1} \\bmod p $$"
   ]
  },
  {
   "cell_type": "code",
   "execution_count": 5,
   "metadata": {},
   "outputs": [
    {
     "name": "stdout",
     "output_type": "stream",
     "text": [
      "0x1f5f5 \n",
      "\n",
      "0x1f5f5 \n",
      "\n",
      "True \n",
      "\n",
      "0x1f5f5 \n",
      "\n",
      "Total Iterations: 131068\n",
      "\n"
     ]
    }
   ],
   "source": [
    "# FLT = a^(p-2) % p === a^(-1) % p\n",
    "a = 51                  # modulus\n",
    "\n",
    "print(hex(a^(p1-2) % p1), '\\n')\n",
    "print(hex(a^(-1) % p1), '\\n')\n",
    "\n",
    "print(a^(p1-2) % p1 == (a^(-1) % p1), '\\n') \n",
    "\n",
    "# need n - 1 multiplications for a^n\n",
    "# a^4 = a * a * a * a (4 multiplications)\n",
    "# a^5 = a * a * a * a * a (5 multiplications)\n",
    "a = 51\n",
    "r = a\n",
    "\n",
    "for i in range(p1 - 3):\n",
    "    r = (r * a) % p1\n",
    "\n",
    "print(hex(r), '\\n')\n",
    "print(f'Total Iterations: {p1 - 3}\\n')"
   ]
  },
  {
   "cell_type": "markdown",
   "metadata": {},
   "source": [
    "## Question 2b) EEA"
   ]
  },
  {
   "cell_type": "code",
   "execution_count": 6,
   "metadata": {},
   "outputs": [
    {
     "name": "stdout",
     "output_type": "stream",
     "text": [
      "While: t1 = -0x33 = -51\n",
      "\n",
      "v = 0x1f5f5\n",
      "Iterations: 2\n"
     ]
    }
   ],
   "source": [
    "def EEA(b, p1, count):\n",
    "    # p1 = 0x0001FFFF\n",
    "    a = p1\n",
    "    # b = 51                                  # modulus\n",
    "    u = 1\n",
    "    v = 0\n",
    "    d = a\n",
    "    v1 = 0\n",
    "    v3 = b\n",
    "\n",
    "    while(v3 != 0):\n",
    "        q = d // v3;                        # integer division\n",
    "        t3 = d % v3;\n",
    "        t1 = u - (q * v1);\n",
    "        \n",
    "        if(t1 < 0):\n",
    "            print(f'While: t1 = {hex(t1)} = {t1}\\n')\n",
    "            t1 = t1 + p1\n",
    "        \n",
    "        u = v1\n",
    "        d = v3\n",
    "        v1 = t1\n",
    "        v3 = t3\n",
    "        count += 1\n",
    "\n",
    "\n",
    "    v = (d - (a * u)) / b;                  # can be negative\n",
    "\n",
    "    if(v < 0):                              # if negative: Add the modulus\n",
    "        v = v + a\n",
    "\n",
    "    print(f'v = {hex(v)}')\n",
    "    return count\n",
    "\n",
    "b = 51                                      # modulus\n",
    "p1 = 0x0001FFFF\n",
    "\n",
    "counter = EEA(b, p1, 0)\n",
    "\n",
    "print(f'Iterations: {counter}')"
   ]
  },
  {
   "cell_type": "markdown",
   "metadata": {},
   "source": [
    "# Problem 3:\n",
    "\n",
    "## 3a) How many loop iterations does it take to compute the output for each method for $a = 51$ (exercise 2)?\n",
    "\n",
    "### a) FLT: Total Iterations: 131068\n",
    "### b) EEA: Total Iterations: 2"
   ]
  },
  {
   "cell_type": "markdown",
   "metadata": {},
   "source": [
    "## 3b) Which Method is faster, in general? Why?\n",
    "\n",
    "### EEA is in general, faster because it has time complexity: $$ O(log^{2}(p)) $$\n",
    "### FLT is slower with time complexity $$ O(log^{3}(p)) $$"
   ]
  },
  {
   "cell_type": "markdown",
   "metadata": {},
   "source": [
    "## 3c) Which Method is Constant Time? Why?\n",
    "\n",
    "### Constant Time = number of iterations is the same independent of the input.\n",
    "\n",
    "### EEA is constant time regardless of input because the algorithm is only dependant on the exponent used.\n"
   ]
  }
 ],
 "metadata": {
  "kernelspec": {
   "display_name": "SageMath 10.0",
   "language": "sage",
   "name": "sagemath"
  },
  "language_info": {
   "codemirror_mode": {
    "name": "ipython",
    "version": 3
   },
   "file_extension": ".py",
   "mimetype": "text/x-python",
   "name": "python",
   "nbconvert_exporter": "python",
   "pygments_lexer": "ipython3",
   "version": "3.10.12"
  },
  "orig_nbformat": 4
 },
 "nbformat": 4,
 "nbformat_minor": 2
}
