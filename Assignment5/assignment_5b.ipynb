{
 "cells": [
  {
   "cell_type": "markdown",
   "metadata": {},
   "source": [
    "### Joel Brigida\n",
    "\n",
    "### CDA-4321: Cryptographic Engineering\n",
    "\n",
    "### Assignment 5: Elliptic Curve Cryptography"
   ]
  },
  {
   "cell_type": "code",
   "execution_count": 1,
   "metadata": {
    "vscode": {
     "languageId": "python"
    }
   },
   "outputs": [],
   "source": [
    "p = 2^255-19\n",
    "a = 0x2aaaaaaaaaaaaaaaaaaaaaaaaaaaaaaaaaaaaaaaaaaaaaaaaaaaaa984914a144\n",
    "b = 0x7b425ed097b425ed097b425ed097b425ed097b425ed097b4260b5e9c7710c864\n",
    "Gx = 0x2aaaaaaaaaaaaaaaaaaaaaaaaaaaaaaaaaaaaaaaaaaaaaaaaaaaaaaaaaad245a\n",
    "Gy = 0x5f51e65e475f794b1fe122d388b72eb36dc2b28192839e4dd6163a5d81312c14"
   ]
  },
  {
   "cell_type": "code",
   "execution_count": 2,
   "metadata": {
    "vscode": {
     "languageId": "python"
    }
   },
   "outputs": [
    {
     "name": "stdout",
     "output_type": "stream",
     "text": [
      "G = (19298681539552699237261830834781317975544997444273427339909597334652188435546 : 43114425171068552920764898935933967039370386198203806730763910166200978582548 : 1)\n",
      "\n",
      "pk = 0x4a08eb868647c36d7b02e42a04d041de0391715e71b7c0a15d86bc5c46ba8e3f\n",
      "\n",
      "T = (33486911108845657824556496124813443090212173285153853565872592004249248501311 : 7860921102172468758001160037503328602235255120896215246392815054724963959308 : 1)\n",
      "\n",
      "yCoord = 0x4a3691bfac0a1c047e247f3a5d81edd558ffd2708db6d6b7cbf3d8b1b6db3c32\n",
      "\n",
      "ss = 7385100590267130821247075643465749176655100040357896990098864696422221080910\n"
     ]
    }
   ],
   "source": [
    "E = EllipticCurve(GF(p), [a, b])\n",
    "G = E(Gx, Gy)   # Generator point (public)\n",
    "print(f'G = {G}')\n",
    "\n",
    "sk = 0x5a4c15d51209bdb902a5509229047c35a55f69658bd934e5568d8987ce3610b0\n",
    "\n",
    "pk = (sk*G)[0]          # Need to generate the secret key and return the X coordinate (1st index in the tuple)\n",
    "print(f'\\npk = {hex(pk)}\\n')\n",
    "\n",
    "# Question 2B:\n",
    "# pk is only the X coordinate of a point\n",
    "# we need the y coordinate\n",
    "T = E.lift_x(pk)\n",
    "print(f'T = {T}\\n')\n",
    "\n",
    "yCoord = (pk*G)[0]\n",
    "print(f'yCoord = {hex(yCoord)}\\n')\n",
    "\n",
    "# last we need to generate a shared key:\n",
    "ss = (sk*T)[0]\n",
    "print(f'ss = {ss}')"
   ]
  }
 ],
 "metadata": {
  "kernelspec": {
   "display_name": "SageMath 10.0",
   "language": "sage",
   "name": "sagemath"
  },
  "language_info": {
   "codemirror_mode": {
    "name": "ipython",
    "version": 3
   },
   "file_extension": ".py",
   "mimetype": "text/x-python",
   "name": "sage",
   "nbconvert_exporter": "python",
   "pygments_lexer": "ipython3",
   "version": "3.10.12"
  }
 },
 "nbformat": 4,
 "nbformat_minor": 2
}
