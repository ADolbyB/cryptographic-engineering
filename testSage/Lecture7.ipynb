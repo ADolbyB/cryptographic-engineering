{
 "cells": [
  {
   "cell_type": "markdown",
   "metadata": {},
   "source": [
    "# Joel Brigida\n",
    "## CDA-4321: Cryptographic Engineering\n",
    "## Public Key Cryptography Functions"
   ]
  },
  {
   "cell_type": "markdown",
   "metadata": {},
   "source": [
    "### RSA Key Generation In Sage\n",
    "- Enter Number of bits to generate that length key."
   ]
  },
  {
   "cell_type": "code",
   "execution_count": 1,
   "metadata": {
    "vscode": {
     "languageId": "python"
    }
   },
   "outputs": [],
   "source": [
    "def rsa(bits):\n",
    "    # pseudo-primality test if bits > 1024\n",
    "    proof = (bits <= 1024)\n",
    "    p = next_prime(ZZ.random_element(2**(bits // 2 + 1)), proof = proof)\n",
    "    q = next_prime(ZZ.random_element(2**(bits // 2 + 1)), proof = proof)\n",
    "    n = p * q\n",
    "    phi_n = (p - 1) * (q - 1)\n",
    "    \n",
    "    while True:\n",
    "        e = ZZ.random_element(1, phi_n)\n",
    "        if gcd(e, phi_n)==1: \n",
    "            break\n",
    "    d = lift(Mod(e, phi_n)^(-1))\n",
    "    return p, q, e, d, n        # p & q = primes, e = public key, d = private key, n = p * q"
   ]
  },
  {
   "cell_type": "code",
   "execution_count": 2,
   "metadata": {
    "vscode": {
     "languageId": "python"
    }
   },
   "outputs": [
    {
     "name": "stdout",
     "output_type": "stream",
     "text": [
      "p1 = 0xc4ef69e0947e2501c40a2944de22f11f\n",
      "q1 = 0xef5c31028935afc8c85b91e5901b0df\n",
      "e1 = 0x1c815230025aed030bcd22c37fae4b95e9954f18f46cf1437c3116e82b049bd\n",
      "d1 = 0x106c3a68036bf30b3ade914af4cb33eebfd7d70618ea6e5b153550cc8db02d\n",
      "n1 = 0xb8226f967e075e837a3c89a7be11d4959c79d5d80ba1ed55d2af84e3e545a01\n",
      "\n"
     ]
    }
   ],
   "source": [
    "p1, q1, e1, d1, n1 = rsa(256)\n",
    "\n",
    "print(f'p1 = {hex(p1)}\\nq1 = {hex(q1)}\\ne1 = {hex(e1)}\\nd1 = {hex(d1)}\\nn1 = {hex(n1)}\\n')"
   ]
  },
  {
   "cell_type": "markdown",
   "metadata": {},
   "source": [
    "### Key Generation using Mersenne Numbers:"
   ]
  },
  {
   "cell_type": "code",
   "execution_count": 3,
   "metadata": {
    "vscode": {
     "languageId": "python"
    }
   },
   "outputs": [
    {
     "name": "stdout",
     "output_type": "stream",
     "text": [
      "Phi = 4951760152529835076874141700\n",
      "Random e = 4324234782253644443530326589\n",
      "Is e < n? True\n",
      "\n",
      "n = 4951760154835678088235319297\n",
      "e = 4324234782253644443530326589\n",
      "Phi = 4951760152529835076874141700\n",
      "\n",
      "bezout = (1, 1280103053126275167154041109, -1117878486979963222660764416)\n",
      "d = 1280103053126275167154041109\n",
      "\n",
      "mod(d * e, phi) = 1\n"
     ]
    }
   ],
   "source": [
    "p = (2^31) - 1\n",
    "q = (2^61) - 1\n",
    "\n",
    "n = p * q\n",
    "phi = (p - 1) * (q - 1)\n",
    "\n",
    "print(f'Phi = {phi}')\n",
    "\n",
    "e = ZZ.random_element(phi)\n",
    "while gcd(e, phi) != 1:\n",
    "    e = ZZ.random_element(phi)\n",
    "\n",
    "print(f'Random e = {e}')\n",
    "print(f'Is e < n? {e < n}\\n')\n",
    "\n",
    "print(f'n = {n}')\n",
    "print(f'e = {e}')\n",
    "print(f'Phi = {phi}\\n')\n",
    "\n",
    "bezout = xgcd(e, phi)\n",
    "print(f'bezout = {bezout}')\n",
    "\n",
    "d = Integer(mod(bezout[1], phi))\n",
    "print(f'd = {d}\\n')\n",
    "\n",
    "print(f'mod(d * e, phi) = {mod(d * e, phi)}')"
   ]
  },
  {
   "cell_type": "markdown",
   "metadata": {},
   "source": [
    "### Encoding & Decoding A Message: \n",
    "- #### String $\\Longleftrightarrow$ Integer"
   ]
  },
  {
   "cell_type": "code",
   "execution_count": 4,
   "metadata": {
    "vscode": {
     "languageId": "python"
    }
   },
   "outputs": [],
   "source": [
    "def encode(s):\n",
    "    s = str(s)\n",
    "    return sum(ord(s[i]) * 256^i for i in range(len(s)))\n",
    "\n",
    "def decode(n):\n",
    "    n = Integer(n)\n",
    "    v = []\n",
    "    while n!= 0:\n",
    "        v.append(chr(n % 256))\n",
    "        n //= 256\n",
    "    return ''.join(v)"
   ]
  },
  {
   "cell_type": "markdown",
   "metadata": {},
   "source": [
    "#### Encoding and Decoding Example:"
   ]
  },
  {
   "cell_type": "code",
   "execution_count": 5,
   "metadata": {
    "vscode": {
     "languageId": "python"
    }
   },
   "outputs": [
    {
     "name": "stdout",
     "output_type": "stream",
     "text": [
      "n1 == p1 * q1 ? True\n",
      "\n",
      "Plain Text Message Bit Pattern: 0x6567617373654d207968706172676f74707972432074736554\n",
      "\n",
      "Sanity Check: Unencrypted Message = \"Test Cryptography Message\"\n",
      "c1 Encrypted Bit Pattern = 0x92013e2c3159095894cdfc8bfef3f2dfaac273e57bffe3b627eb7850b8f98e4\n"
     ]
    }
   ],
   "source": [
    "myMessage = \"Test Cryptography Message\"\n",
    "print(f'n1 == p1 * q1 ? {p1 * q1 == n1}\\n')\n",
    "\n",
    "plainTextBitPattern = encode(myMessage) # convert the string to an integer\n",
    "m1 = plainTextBitPattern\n",
    "print(f'Plain Text Message Bit Pattern: {hex(m1)}\\n')\n",
    "\n",
    "decodedMessage = decode(m1)             # convert unencrypted message to text as a test\n",
    "print(f'Sanity Check: Unencrypted Message = \\\"{decodedMessage}\\\"')\n",
    "\n",
    "cypherText = power_mod(m1, e1, n1)      # performs m^e mod n to encrypt message to cypher text\n",
    "c1 = cypherText\n",
    "print(f'c1 Encrypted Bit Pattern = {hex(c1)}')"
   ]
  },
  {
   "cell_type": "markdown",
   "metadata": {},
   "source": [
    "### Encrypting A Bit Pattern:\n",
    "- Given $(n, e)$ and $(n, d)$ as computed above\n",
    "- To encrypt a bit pattern into a sequence of numbers $m$, compute: \n",
    "### $$ c = m^{e} \\bmod n $$"
   ]
  },
  {
   "cell_type": "code",
   "execution_count": 6,
   "metadata": {
    "vscode": {
     "languageId": "python"
    }
   },
   "outputs": [
    {
     "name": "stdout",
     "output_type": "stream",
     "text": [
      "m = 72697676798779827668\n",
      "e = 4324234782253644443530326589\n",
      "n = 4951760154835678088235319297 \n",
      "\n",
      "Encrypted Message c = 866690494698149907360211859\n"
     ]
    }
   ],
   "source": [
    "m = 72697676798779827668        # Example random integer\n",
    "print(f'm = {m}')\n",
    "print(f'e = {e}')\n",
    "print(f'n = {n}', '\\n')\n",
    "\n",
    "c = power_mod(m, e, n)\n",
    "print(f'Encrypted Message c = {c}')"
   ]
  },
  {
   "cell_type": "markdown",
   "metadata": {},
   "source": [
    "### Decrypt the CypherText Bit Pattern: $$ m = c^d \\bmod n $$"
   ]
  },
  {
   "cell_type": "code",
   "execution_count": 7,
   "metadata": {
    "vscode": {
     "languageId": "python"
    }
   },
   "outputs": [
    {
     "name": "stdout",
     "output_type": "stream",
     "text": [
      "Decrypted Message 'm2' Bit Pattern: 0x6567617373654d207968706172676f74707972432074736554\n",
      "\n",
      "Decrypted Message Text: \"Test Cryptography Message\"\n"
     ]
    }
   ],
   "source": [
    "m2 = power_mod(c1, d1, n1)\n",
    "print(f'Decrypted Message \\'m2\\' Bit Pattern: {hex(m2)}\\n')\n",
    "\n",
    "newMessage = decode(m2)\n",
    "print(f'Decrypted Message Text: \\\"{newMessage}\\\"')"
   ]
  },
  {
   "cell_type": "markdown",
   "metadata": {},
   "source": [
    "#### Testing XOR Logic Operations:"
   ]
  },
  {
   "cell_type": "code",
   "execution_count": 8,
   "metadata": {
    "vscode": {
     "languageId": "python"
    }
   },
   "outputs": [
    {
     "name": "stdout",
     "output_type": "stream",
     "text": [
      "a XOR b = 0x5753 = 0b101011101010011\n",
      "\n",
      "a XOR c = 0x4567 == b\n",
      "a XOR b = 0x1234 == c\n",
      "\n",
      "a XOR 0 = 0x1234 == a\n",
      "b XOR 0 = 0x4567 == b\n",
      "\n",
      "0xfff8\n"
     ]
    }
   ],
   "source": [
    "a = 0x1234\n",
    "b = 0x4567\n",
    "c = a ^^ b\n",
    "\n",
    "print(f'a XOR b = {hex(c)} = {bin(c)}\\n')\n",
    "\n",
    "print(f'a XOR c = {hex(a ^^ c)} == b')\n",
    "print(f'a XOR b = {hex(b ^^ c)} == c\\n')\n",
    "\n",
    "print(f'a XOR 0 = {hex(a ^^ 0)} == a')\n",
    "print(f'b XOR 0 = {hex(b ^^ 0)} == b\\n')\n",
    "\n",
    "# Recall that (a ^^ b) ^^ a = b and (a ^^ b) ^^ b = a\n",
    "\n",
    "# 16 bits in total:\n",
    "print(hex(0b1111111111111000))"
   ]
  }
 ],
 "metadata": {
  "kernelspec": {
   "display_name": "SageMath 10.0",
   "language": "sage",
   "name": "sagemath"
  },
  "language_info": {
   "codemirror_mode": {
    "name": "ipython",
    "version": 3
   },
   "file_extension": ".py",
   "mimetype": "text/x-python",
   "name": "sage",
   "nbconvert_exporter": "python",
   "pygments_lexer": "ipython3",
   "version": "3.10.12"
  }
 },
 "nbformat": 4,
 "nbformat_minor": 2
}
