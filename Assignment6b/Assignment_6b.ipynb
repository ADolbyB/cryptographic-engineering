{
 "cells": [
  {
   "cell_type": "markdown",
   "metadata": {},
   "source": [
    "## Joel Brigida\n",
    "\n",
    "## Assignment 6b\n",
    "\n",
    "## Polynomial Schoolbook Multiplication vs. Number Theoretic Transform (NTT) Multiplication"
   ]
  },
  {
   "cell_type": "code",
   "execution_count": 1,
   "metadata": {},
   "outputs": [],
   "source": [
    "from assignment_6b_parameters import *\n",
    "from assignment_6b_functions import *\n",
    "from assignment_6b_NTT import *\n",
    "\n",
    "POLYMUL = 0"
   ]
  },
  {
   "cell_type": "code",
   "execution_count": 2,
   "metadata": {},
   "outputs": [],
   "source": [
    "def mult_poly_vec(M1: matrix, M2: matrix) -> matrix:\n",
    "    global POLYMUL\n",
    "    POLYMUL = 0\n",
    "    out = []\n",
    "    A = M1.rows()\n",
    "    B = M2.columns()[0]\n",
    "    for f in range(k):\n",
    "        t1 = []\n",
    "        t2 = []\n",
    "        for g in range(k):\n",
    "            a = A[f][g].list() # 1a\n",
    "            b = B[g].list() # 1b\n",
    "            c = [0 for _ in range(n*2)] \n",
    "\n",
    "            for i in range(n):\n",
    "                for j in range(n):\n",
    "                    c[i + j] = (c[i + j] + a[i] * b[j]) % q # 1c\n",
    "                    POLYMUL += 1 # DO NOT EDIT OR REMOVE THIS LINE\n",
    "            t1.append(c)\n",
    "\n",
    "        for i in range(k-1):\n",
    "            for j in range(n*2):\n",
    "                c = (t1[i][j] + t1[i+1][j]) % q\n",
    "                t2.append(c)\n",
    "        out.append([RQ(t2)])\n",
    "    return matrix(out)\n",
    "\n",
    "def mult_poly_vec_test():\n",
    "    global NTTMUL\n",
    "    for i in range(10):\n",
    "        print(f'Running test {i+1}...')\n",
    "        A = [[[None] for _ in range(0, k)] for _ in range(0, k)]\n",
    "        s = [None for _ in range(0, k)]\n",
    "        e = [None for _ in range(0, k)]\n",
    "\n",
    "        # A is a k*k dimension matrix of polynomials with n terms\n",
    "        for i in range(0, k):\n",
    "            for j in range(0, k):\n",
    "                A[i][j] = RandPolyUniform(n)\n",
    "        A = matrix(A)\n",
    "\n",
    "        for i in range(0, k):\n",
    "            s[i] = [RandPolyCbd(n)]\n",
    "        s = matrix(s)\n",
    "\n",
    "        nttr, nttm = nttmul(A,s)\n",
    "        assert(nttr == mult_poly_vec(A,s))\n",
    "    print()\n",
    "    print('All tests passed!')\n",
    "    print()\n",
    "    print('Total Multiplications for Schoolbook', POLYMUL)\n",
    "    print('Total Multiplications for NTT', nttm)"
   ]
  },
  {
   "cell_type": "code",
   "execution_count": 3,
   "metadata": {},
   "outputs": [
    {
     "name": "stdout",
     "output_type": "stream",
     "text": [
      "Running test 1...\n",
      "Running test 2...\n",
      "Running test 3...\n",
      "Running test 4...\n",
      "Running test 5...\n",
      "Running test 6...\n",
      "Running test 7...\n",
      "Running test 8...\n",
      "Running test 9...\n",
      "Running test 10...\n",
      "\n",
      "All tests passed!\n",
      "\n",
      "Total Multiplications for Schoolbook 262144\n",
      "Total Multiplications for NTT 14336\n"
     ]
    }
   ],
   "source": [
    "mult_poly_vec_test()"
   ]
  },
  {
   "cell_type": "markdown",
   "metadata": {},
   "source": [
    "## Part D\n",
    "\n",
    "## How many multiplications are reported by schoolbook?\n",
    "- Schoolbook Method Reports 262,144 total multiplications.\n",
    "- NTT Method Reports 14,336 total Multiplications.\n",
    "\n",
    "- What is the percent decrease from Schoolbook to NTT?\n",
    "\n",
    "$$ \\text{Percent Decrease } = \\frac{\\text{Final Value} - \\text{Start Value}}{\\text{Start Value}} \\times 100 \\% \\Longrightarrow  \\frac{262144 - 14336}{\\text{262144}} \\times 100 \\% = 94.5313\\% \\text{ decrease} $$"
   ]
  }
 ],
 "metadata": {
  "kernelspec": {
   "display_name": "SageMath 10.0",
   "language": "sage",
   "name": "sagemath"
  },
  "language_info": {
   "codemirror_mode": {
    "name": "ipython",
    "version": 3
   },
   "file_extension": ".py",
   "mimetype": "text/x-python",
   "name": "python",
   "nbconvert_exporter": "python",
   "pygments_lexer": "ipython3",
   "version": "3.10.12"
  }
 },
 "nbformat": 4,
 "nbformat_minor": 2
}
