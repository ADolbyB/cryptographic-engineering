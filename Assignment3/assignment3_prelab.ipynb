{
 "cells": [
  {
   "cell_type": "markdown",
   "metadata": {},
   "source": [
    "# Joel Brigida\n",
    "\n",
    "## CDA-4321: Cryptographic Engineering\n",
    "\n",
    "## Prelab #3: Efficient Reduction Operations\n",
    "### Modular Arithmetic"
   ]
  },
  {
   "cell_type": "markdown",
   "metadata": {},
   "source": [
    "# Montgomery Multiplication, Addition & Subtraction:\n",
    "\n",
    "- Function Definitions:"
   ]
  },
  {
   "cell_type": "code",
   "execution_count": 1,
   "metadata": {},
   "outputs": [],
   "source": [
    "def mod_add(a, b): \n",
    "    return (a + b) % p\n",
    "\n",
    "def mod_sub(a, b): \n",
    "    return (a - b) % p\n",
    "\n",
    "def mont_mult(a, b): \n",
    "    return (a * b * Rinv) % p"
   ]
  },
  {
   "cell_type": "markdown",
   "metadata": {},
   "source": [
    "### Values for Modular Arithmetic:"
   ]
  },
  {
   "cell_type": "code",
   "execution_count": 2,
   "metadata": {},
   "outputs": [],
   "source": [
    "p = 2^20 - 3\n",
    "R = 2^20\n",
    "R2 = (R^2) % p\n",
    "Rinv = inverse_mod(R, p)\n",
    "\n",
    "a = 0x486d1\n",
    "b = 0xd1dc3\n",
    "c = 0x138a4\n",
    "d = 0x47f45\n",
    "e = 0xbdcc8"
   ]
  },
  {
   "cell_type": "markdown",
   "metadata": {},
   "source": [
    "## Perform Operations in Montgomery Domain:\n",
    "\n",
    "Need to perform: $$ (a \\times b + c \\times d - e) $$ In the Montgomery domain.\n",
    "\n",
    "Order of operations: \n",
    "$$ (a \\times b) = r_1 $$ \n",
    "$$ (c \\times d) = r_2 $$ \n",
    "$$ (r1 + r2) = r_3 $$ \n",
    "$$ r_3 - e = r_4 $$\n",
    "$$ \\therefore \\, r_4 = (a \\times b + c \\times d - e) $$ "
   ]
  },
  {
   "cell_type": "code",
   "execution_count": 3,
   "metadata": {},
   "outputs": [
    {
     "name": "stdout",
     "output_type": "stream",
     "text": [
      "aa = 0xd9473\n",
      "bb = 0x7594f\n",
      "cc = 0x3a9ec\n",
      "dd = 0xd7dcf\n",
      "ee = 0x3965e\n",
      "\n",
      "r4 = 0x9e15a in hexadecimal in Montgomery Domain\n",
      "r4 = 0x34b1e in Real Domain\n",
      "\n",
      "Answer Check: r4 = 0x34b1e\n"
     ]
    }
   ],
   "source": [
    "aa = mont_mult(a, R2)\n",
    "print(f'aa = {hex(aa)}')\n",
    "\n",
    "bb = mont_mult(b, R2)\n",
    "print(f'bb = {hex(bb)}')\n",
    "\n",
    "cc = mont_mult(c, R2)\n",
    "print(f'cc = {hex(cc)}')\n",
    "\n",
    "dd = mont_mult(d, R2)\n",
    "print(f'dd = {hex(dd)}')\n",
    "\n",
    "ee = mont_mult(e, R2)\n",
    "print(f'ee = {hex(ee)}\\n')\n",
    "\n",
    "r1 = mont_mult(aa, bb)\n",
    "r2 = mont_mult(cc, dd)\n",
    "r3 = mod_add(r1, r2)\n",
    "r4 = mod_sub(r3, ee)\n",
    "\n",
    "print(f'r4 = {hex(r4)} in hexadecimal in Montgomery Domain')\n",
    "print(f'r4 = {hex(mont_mult(r4, 1))} in Real Domain\\n')\n",
    "\n",
    "print(f'Answer Check: r4 = {hex(((a * b) + (c * d) - e) % p)}')"
   ]
  },
  {
   "cell_type": "markdown",
   "metadata": {},
   "source": [
    "# Barrett Reduction\n",
    "\n",
    "## Algorithm:\n",
    "\n",
    "$$ q_1 = \\bigg \\lfloor \\frac{x}{2^{k + 1}} \\bigg \\rfloor $$\n",
    "\n",
    "$$ q_2 = q_1 \\times \\mu $$\n",
    "\n",
    "$$ q_3 = \\bigg \\lfloor \\frac{q_2}{2^{k + 1}} \\bigg \\rfloor $$\n",
    "\n",
    "$$ r_1 = x \\bmod 2^{k + 1} $$\n",
    "\n",
    "$$ r_2 = q_3 \\times p \\bmod 2^{k + 1} $$\n",
    "\n",
    "$$ r = r_1 - r_2 $$\n",
    "\n",
    "$$ \\text{If } r < 0 \\text{ then: } \\, \\, r = r + 2^{k + 1} $$ \n",
    "\n",
    "$$ \\text{While } r \\ge p \\text{ then: } \\, \\, r = r - p $$\n",
    "\n",
    "$$ \\text{Return } r $$\n",
    "\n",
    "## Function Definition:"
   ]
  },
  {
   "cell_type": "code",
   "execution_count": 9,
   "metadata": {},
   "outputs": [],
   "source": [
    "def barrettReduction(x, p, k, mu):    \n",
    "    q1 = x >> (k - 1)\n",
    "    print(f'q1 = {hex(q1)}')\n",
    "\n",
    "    q2 = q1 * mu\n",
    "    print(f'q2 = {hex(q2)}')\n",
    "\n",
    "    q3 = q2 >> (k + 1)\n",
    "\n",
    "    r1 = x & (2^(k + 1) - 1)        # x mod 2^(k+1) : mask to perform mod operation\n",
    "    print(f'r1 = {hex(r1)}')\n",
    "\n",
    "    r2 = q3 * p & (2^(k + 1))   # q3 * p mod 2^(k+1)\n",
    "    print(f'r2 = {hex(r2)}\\n')\n",
    "\n",
    "    r = r1 - r2\n",
    "    print(f'Before if: r = {hex(r)}')\n",
    "\n",
    "    if r < 0:\n",
    "        r = r + (2^(k+1))\n",
    "\n",
    "    print(f'After if: r = {hex(r)}')\n",
    "\n",
    "    while r >= p:\n",
    "        r = r - p\n",
    "\n",
    "    print(f'After while: r = {hex(r)}')\n",
    "    return r"
   ]
  },
  {
   "cell_type": "markdown",
   "metadata": {},
   "source": [
    "## Values For Reduction:"
   ]
  },
  {
   "cell_type": "code",
   "execution_count": 5,
   "metadata": {},
   "outputs": [
    {
     "name": "stdout",
     "output_type": "stream",
     "text": [
      "mu = 0xe6\n"
     ]
    }
   ],
   "source": [
    "x = 10256\n",
    "p = 71\n",
    "k = 7\n",
    "mu = (2^(2 * k)) // p # integer division\n",
    "\n",
    "print(f'mu = {hex(mu)}')"
   ]
  },
  {
   "cell_type": "code",
   "execution_count": 11,
   "metadata": {},
   "outputs": [
    {
     "name": "stdout",
     "output_type": "stream",
     "text": [
      "q1 = 0xa0\n",
      "q2 = 0x8fc0\n",
      "r1 = 0x10\n",
      "r2 = 0xa9\n",
      "\n",
      "Before if: r = -0x99\n",
      "After if: r = 0x67\n",
      "After while: r = 0x20\n",
      "\n",
      "\n",
      "Result of Barrett Reduction: 0x20 = 32\n"
     ]
    }
   ],
   "source": [
    "barrettOutput = barrettReduction(x, p, k, mu)\n",
    "print(f'\\n\\nResult of Barrett Reduction: {hex(barrettOutput)} = {barrettOutput}')"
   ]
  },
  {
   "cell_type": "code",
   "execution_count": null,
   "metadata": {},
   "outputs": [],
   "source": [
    "a = 2^15 - 1\n",
    "\n",
    "print(f'a = {bin(a)} = {hex(a)}')"
   ]
  }
 ],
 "metadata": {
  "kernelspec": {
   "display_name": "SageMath 10.0",
   "language": "sage",
   "name": "sagemath"
  },
  "language_info": {
   "codemirror_mode": {
    "name": "ipython",
    "version": 3
   },
   "file_extension": ".py",
   "mimetype": "text/x-python",
   "name": "python",
   "nbconvert_exporter": "python",
   "pygments_lexer": "ipython3",
   "version": "3.10.12"
  },
  "orig_nbformat": 4
 },
 "nbformat": 4,
 "nbformat_minor": 2
}
