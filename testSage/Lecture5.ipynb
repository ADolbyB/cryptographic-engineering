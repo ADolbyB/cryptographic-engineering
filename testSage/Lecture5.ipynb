{
 "cells": [
  {
   "cell_type": "markdown",
   "metadata": {},
   "source": [
    "### Joel Brigida\n",
    "\n",
    "### CDA4321: Cryptographic Engineering\n",
    "\n",
    "### Lecture 5: Code for Assignment 2"
   ]
  },
  {
   "cell_type": "markdown",
   "metadata": {},
   "source": [
    "### Multi-Precision Arithmetic:\n",
    " - If processor word size = 64-bit\n",
    "     - Split a 256-bit number into a 4 index array of 64-bit numbers\n",
    " - If processor word size = 32-bit\n",
    "     - Split a 256-but number into an 8 index array of 32-bit numbers\n",
    "\n",
    "### $ res[0] = a[0] + b[0] $\n",
    "### $ res[1] = a[1] + b[1] + \\text{carry from } res[0] $\n",
    "### $ res[2] = a[2] + b[2] + \\text{carry from } res[1] $\n",
    "### $ ... $\n",
    "\n",
    " - For a 256-bit number & 64-bit word size: use an array with 8 64-bit indices (Total allocation = 512 bits).\n",
    "     - Every even index will contain 0's and used only to deal with the carry"
   ]
  },
  {
   "cell_type": "code",
   "execution_count": 1,
   "metadata": {},
   "outputs": [
    {
     "name": "stdout",
     "output_type": "stream",
     "text": [
      "0x1234 - 0x4321 = -0x30ed\n",
      "\n",
      "[-1, 0, -1, -1, 0, -1, -1, -1, 0, 0, 0, 0, -1, -1] \n",
      "\n",
      "-0x30ed \n",
      "\n",
      "[-1, 0, -1, -1, 0, -1, -1, -1, 0, 0, 0, 0, -1, -1] \n",
      "\n",
      "[-1, 0, -1, -1, 0, -1, -1, -1, 0, 0, 0, 0, -1, -1]\n",
      "[-1, -1, 0, 0, 0, 0, -1, -1, -1, 0, -1, -1, 0, -1]\n"
     ]
    }
   ],
   "source": [
    "result = 0x1234 - 0x4321\n",
    "result2 = 0x1234 + (-0x4321)\n",
    "print(f'{hex(0x1234)} - {hex(0x4321)} = {hex(result)}\\n')\n",
    "print(result.bits(), '\\n')\n",
    "print(hex(result2), '\\n')\n",
    "print(result.bits(), '\\n')\n",
    "bitList = list(result.bits())\n",
    "print(bitList)\n",
    "\n",
    "revBitList = bitList[::-1]\n",
    "print(revBitList)"
   ]
  },
  {
   "cell_type": "code",
   "execution_count": 2,
   "metadata": {},
   "outputs": [
    {
     "name": "stdout",
     "output_type": "stream",
     "text": [
      "[1, 1, 0, 0, 1, 0, 0, 0, 1, 1, 1, 1, 0, 0, 1, 1, 1, 1, 1, 1, 1, 1, 1, 1, 1, 1, 1, 1, 1, 1, 1, 1]  MSB on Right\n",
      "\n",
      "[1, 1, 1, 1, 1, 1, 1, 1, 1, 1, 1, 1, 1, 1, 1, 1, 1, 1, 0, 0, 1, 1, 1, 1, 0, 0, 0, 1, 0, 0, 1, 1]  MSB on Left\n",
      "\n"
     ]
    }
   ],
   "source": [
    "result3 = 0xFFFFCF13\n",
    "\n",
    "print(result3.bits(), ' MSB on Right\\n')\n",
    "bitlist2 = result3.bits()\n",
    "revBitList2 = bitlist2[::-1]\n",
    "print(revBitList2, ' MSB on Left\\n')"
   ]
  },
  {
   "cell_type": "code",
   "execution_count": 3,
   "metadata": {},
   "outputs": [
    {
     "name": "stdout",
     "output_type": "stream",
     "text": [
      "[13, 11, 10, 2, 11, 0, 2, 10, 10, 4, 7, 6, 6, 14, 5, 3, 9, 7, 10, 5, 5, 12, 14, 5, 11, 6, 6, 13, 7, 8, 12, 5, 0, 1, 4, 7, 4, 2] \n",
      "\n",
      "['0x000d', '0x000b', '0x000a', '0x0002', '0x000b', '0x0000', '0x0002', '0x000a', '0x000a', '0x0004', '0x0007', '0x0006', '0x0006', '0x000e', '0x0005', '0x0003', '0x0009', '0x0007', '0x000a', '0x0005', '0x0005', '0x000c', '0x000e', '0x0005', '0x000b', '0x0006', '0x0006', '0x000d', '0x0007', '0x0008', '0x000c', '0x0005', '0x0000', '0x0001', '0x0004', '0x0007', '0x0004', '0x0002'] \n",
      "\n",
      "1099373473126\n"
     ]
    }
   ],
   "source": [
    "a = 812937419827341987234918723501982375897410237 # A very large number\n",
    "d = 4 # base 2^d: octal = 2^3 = 8, hex = 2^4 = 16\n",
    "s = 4\n",
    "print(a.digits(2^d), '\\n') # print in octal or hex format\n",
    "\n",
    "n = 4 # number of hex digits in each array index\n",
    "hexArray = [\"0x{0:0{1}x}\".format(x,n) for x in a.digits(base=2^d,padto=s)]\n",
    "print(hexArray, '\\n')\n",
    "\n",
    "v = 0xFFF7C3ED66\n",
    "print(Integer(v))"
   ]
  },
  {
   "cell_type": "markdown",
   "metadata": {},
   "source": [
    "Source: https://nbviewer.org/urls/pastebin.com/raw/GJMCtHfA\n",
    "\n",
    "Modifications Mine."
   ]
  },
  {
   "cell_type": "code",
   "execution_count": 4,
   "metadata": {},
   "outputs": [
    {
     "name": "stdout",
     "output_type": "stream",
     "text": [
      "0xfffffffe \n",
      "\n",
      "0xffffcf13 \n",
      "\n",
      "a = [0x00fa,0x0074,0x0035,0x0012,0x0000]\n"
     ]
    }
   ],
   "source": [
    "DATA_TYPE=32\n",
    "def addn(a, b, r=DATA_TYPE): return (a + b) % (2^r)\n",
    "def subn(a, b, r=DATA_TYPE): return (a - b) % (2^r)\n",
    "def muln(a, b, r=DATA_TYPE): return (a * b) % (2^r)\n",
    "def shift_leftn(a, b, r=DATA_TYPE):return (a >> b) % (2^r)\n",
    "def shift_rightn(a, b, r=DATA_TYPE):return (a << b) % (2^r)\n",
    "def andn(a, b, r=DATA_TYPE): return (a & b) % (2^r)\n",
    "def orn(a, b, r=DATA_TYPE): return (a & b) % (2^r)\n",
    "def xorn(a, b, r=DATA_TYPE): return (a.xor(b)) % (2^r)\n",
    "def notn(a, r=DATA_TYPE): return (~a) % (2^r)\n",
    "\n",
    "print(hex(subn(0x0, 0x2)), '\\n')\n",
    "print(hex(subn(0x1234, 0x4321)), '\\n')\n",
    "\n",
    "def print_integer_hex(a, base, padto, digits, s = \"\"):\n",
    "    print(s + \"[\" + ','.join([\"0x{0:0{1}x}\".format(x,digits) for x in a.digits(base=base,padto=padto)]) + \"]\")\n",
    "\n",
    "a = 0x123574fa\n",
    "print_integer_hex(a, 2^8, 5, 4, \"a = \")"
   ]
  },
  {
   "cell_type": "markdown",
   "metadata": {},
   "source": [
    "Multiplication Schoolbook Method:\n",
    "```python\n",
    "             a3, a2, a1, a0\n",
    "             b3, b2, b1, b0\n",
    "            ---------------\n",
    "     r6, r5, r4, r3, r2, r1\n",
    "\n",
    "i = 0\n",
    " r0 =  a0 * b0   j = 0\n",
    " r1 =  a0 * b1   j = 1\n",
    " r2 =  a0 * b2   j = 2\n",
    " r3 =  a0 * b3   j = 3\n",
    "\n",
    "i = 1\n",
    " r1 += a1 * b0\n",
    " r2 += a1 * b1\n",
    " r3 += a1 * b2\n",
    " r4 += a1 * b3\n",
    "\n",
    "i = 2\n",
    " r2 += a2 * b0\n",
    " r3 += a2 * b1\n",
    " r4 += a2 * b2\n",
    " r5 += a2 * b3\n",
    "\n",
    "```"
   ]
  },
  {
   "cell_type": "code",
   "execution_count": null,
   "metadata": {},
   "outputs": [],
   "source": [
    "hex_string = 'F' * 64\n",
    "hex_string = '0x' + hex_string\n",
    "print(Integer(hex_string), '\\n')\n",
    "\n",
    "print(f'64 str F\\'s: {hex_string}')\n",
    "sageInt = Integer(hex_string)       # Requires SageMath: Convert String to Integer\n",
    "print(f'64 int F\\'s: {hex(sageInt)}\\n')"
   ]
  },
  {
   "cell_type": "markdown",
   "metadata": {},
   "source": [
    "Spare Operands:"
   ]
  },
  {
   "cell_type": "code",
   "execution_count": null,
   "metadata": {},
   "outputs": [],
   "source": [
    "a = [ 0xB9, 0xDE, 0x02, 0x5B ]\n",
    "b = [ 0x03, 0xEC, 0xFD, 0x41 ]\n",
    "\n",
    "a = [ 0x5B, 0x02, 0xDE, 0xB9 ]\n",
    "b = [ 0x41, 0xFD, 0xEC, 0x03 ]\n",
    "r = [0, 0, 0, 0, 0, 0, 0]"
   ]
  },
  {
   "cell_type": "markdown",
   "metadata": {},
   "source": [
    "Multiplication Comba Method:"
   ]
  },
  {
   "cell_type": "code",
   "execution_count": null,
   "metadata": {},
   "outputs": [],
   "source": [
    "a1 = 0x5b02deb9\n",
    "b1 = 0x41fdec03\n",
    "c1 = 0\n",
    "\n",
    "print(f'{hex(a1)} * {hex(b1)} = {hex(a1 * b1)}\\n')\n",
    "\n",
    "c1 = a1 * b1\n",
    "print(f'{a1} * {b1} = {c1}\\n')\n",
    "d1 = hex(c1)\n",
    "print(d1, '\\n')\n",
    "\n",
    "# a32 = 0x5b02deb9, a0 = b9, a1 = de, a2 = 02, a3 = 5b\n",
    "# b32 = 0x41fdec03, b0 = 03, b1 = ec, b2 = fd, b3 = 41\n",
    "\n",
    "a = [ 0x5B, 0x02, 0xDE, 0xB9 ]\n",
    "b = [ 0x41, 0xFD, 0xEC, 0x03 ]\n",
    "r = [0, 0, 0, 0, 0, 0, 0]\n",
    "\n",
    "r[0] =  a[0] * b[0]\n",
    "r[0] = hex(r[0] & 0xFFFF)\n",
    "\n",
    "r[1] = (a[0] * b[1]) + (a[1] * b[0])\n",
    "r[1] = hex(r[1] & 0xFFFF)\n",
    "\n",
    "r[2] = (a[0] * b[2]) + (a[1] * b[1]) + (a[2] * b[0])\n",
    "r[2] = hex(r[2] & 0xFFFF)\n",
    "\n",
    "r[3] = (a[0] * b[3]) + (a[1] * b[2]) + (a[2] * b[1])\n",
    "r[3] = hex(r[3] & 0xFFFF)\n",
    "\n",
    "r[4] = (a[1] * b[3]) + (a[2] * b[2]) + (a[3] * b[1])\n",
    "r[4] = hex(r[4] & 0xFFFF)\n",
    "\n",
    "r[5] = (a[2] * b[3]) + (a[3] * b[2])\n",
    "r[5] = hex(r[5] & 0xFFFF)\n",
    "\n",
    "r[6] =  a[3] * b[3]\n",
    "r[6] = hex(r[6] & 0xFFFF)\n",
    "\n",
    "print(r)"
   ]
  },
  {
   "cell_type": "markdown",
   "metadata": {},
   "source": [
    "Adding Hex Numbers in Sage and converting to a list of strings."
   ]
  },
  {
   "cell_type": "code",
   "execution_count": 16,
   "metadata": {},
   "outputs": [
    {
     "name": "stdout",
     "output_type": "stream",
     "text": [
      "In Hex: a * b = 0x39b8475eea2950ed1e3b5e1e19698620966c1c3deaa42eff32\n",
      "\n",
      "16 bit list: ['0xff32', '0xa42e', '0x3dea', '0x6c1c', '0x2096', '0x6986', '0x1e19', '0x3b5e', '0xed1e', '0x2950', '0x5eea', '0xb847', '0x0039', '0x0000', '0x0000', '0x0000']\n",
      "\n"
     ]
    },
    {
     "data": {
      "text/plain": [
       "'In Decimal: a * b = 362313301750115229922853852292127694260558623925754978565938'"
      ]
     },
     "execution_count": 16,
     "metadata": {},
     "output_type": "execute_result"
    }
   ],
   "source": [
    "a = 0xabe89842fec093480d989c98a\n",
    "b = 0x55f44c217f6049a406cc4e4c5\n",
    "\n",
    "c = a * b\n",
    "c.digits(base=2^16, padto=16)\n",
    "\n",
    "print(f'In Hex: a * b = {hex(c)}\\n')\n",
    "\n",
    "d = 16\n",
    "s = 16\n",
    "n = 4\n",
    "\n",
    "list16bit = [\"0x{0:0{1}x}\".format(x, n) for x in c.digits(base=2^d, padto=s)]\n",
    "\n",
    "print(f'16 bit list: {list16bit}\\n')\n",
    "\n",
    "decResult = Integer(list16bit, base=2^d)\n",
    "(f'In Decimal: a * b = {decResult}')"
   ]
  }
 ],
 "metadata": {
  "kernelspec": {
   "display_name": "SageMath 10.0",
   "language": "sage",
   "name": "sagemath"
  },
  "language_info": {
   "codemirror_mode": {
    "name": "ipython",
    "version": 3
   },
   "file_extension": ".py",
   "mimetype": "text/x-python",
   "name": "python",
   "nbconvert_exporter": "python",
   "pygments_lexer": "ipython3",
   "version": "3.10.12"
  },
  "orig_nbformat": 4
 },
 "nbformat": 4,
 "nbformat_minor": 2
}
