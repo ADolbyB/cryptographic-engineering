{
 "cells": [
  {
   "cell_type": "markdown",
   "metadata": {},
   "source": [
    "## Assignment 6b\n",
    "### Quick Tips\n",
    "1. Read the lab assignment document!\n",
    "2. ALL cells need to be run at least once, and in-order. To run a cell, click inside of it then press ctrl + enter or press the \"play\" button. The look and location of the button will vary depending on whar you are using to run the notebook."
   ]
  },
  {
   "cell_type": "code",
   "execution_count": null,
   "metadata": {},
   "outputs": [],
   "source": [
    "from assignment_6b_parameters import *\n",
    "from assignment_6b_functions import *\n",
    "from assignment_6b_NTT import *\n",
    "\n",
    "POLYMUL = 0"
   ]
  },
  {
   "cell_type": "code",
   "execution_count": null,
   "metadata": {},
   "outputs": [],
   "source": [
    "def mult_poly_vec(M1: matrix, M2: matrix) -> matrix:\n",
    "    global POLYMUL\n",
    "    POLYMUL = 0\n",
    "    out = []\n",
    "    A = M1.rows()\n",
    "    B = M2.columns()[0]\n",
    "    for f in range(k):\n",
    "        t1 = []\n",
    "        t2 = []\n",
    "        for g in range(k):\n",
    "            a = # Write 1a here. Remember to end with .list()!\n",
    "            b = # Write 1b here. Remember to end with .list()!\n",
    "            c = [0 for _ in range(n*2)] \n",
    "\n",
    "            for i in range(n):\n",
    "                for j in range(n):\n",
    "                    c[i+j] = # Write 1c here. use a and b!\n",
    "                    # Remember to run your code using the third cell below\n",
    "                    # containing the single call to mult_poly_vec_test()\n",
    "                    POLYMUL += 1 # DO NOT EDIT OR REMOVE THIS LINE\n",
    "            t1.append(c)\n",
    "\n",
    "        for i in range(k-1):\n",
    "            for j in range(n*2):\n",
    "                c = (t1[i][j] + t1[i+1][j]) % q\n",
    "                t2.append(c)\n",
    "        out.append([RQ(t2)])\n",
    "    return matrix(out)\n",
    "\n",
    "def mult_poly_vec_test():\n",
    "    for i in range(10):\n",
    "        print(f'Running test {i+1}...')\n",
    "        A = [[[None] for _ in range(0, k)] for _ in range(0, k)]\n",
    "        s = [None for _ in range(0, k)]\n",
    "        e = [None for _ in range(0, k)]\n",
    "\n",
    "        # A is a k*k dimension matrix of polynomials with n terms\n",
    "        for i in range(0, k):\n",
    "            for j in range(0, k):\n",
    "                A[i][j] = RandPolyUniform(n)\n",
    "        A = matrix(A)\n",
    "\n",
    "        for i in range(0, k):\n",
    "            s[i] = [RandPolyCbd(n)]\n",
    "        s = matrix(s)\n",
    "\n",
    "        nttr, nttm = nttmul(A,s)\n",
    "        assert(nttr == mult_poly_vec(A,s))\n",
    "    print()\n",
    "    print('All tests passed!')\n",
    "    print()\n",
    "    print('Total Multiplications for Schoolbook', POLYMUL)\n",
    "    print('Total Multiplications for NTT', nttm)"
   ]
  },
  {
   "cell_type": "code",
   "execution_count": null,
   "metadata": {},
   "outputs": [],
   "source": [
    "mult_poly_vec_test()"
   ]
  }
 ],
 "metadata": {
  "kernelspec": {
   "display_name": "SageMath 10.0",
   "language": "sage",
   "name": "sagemath"
  },
  "language_info": {
   "codemirror_mode": {
    "name": "ipython",
    "version": 3
   },
   "file_extension": ".py",
   "mimetype": "text/x-python",
   "name": "python",
   "nbconvert_exporter": "python",
   "pygments_lexer": "ipython3",
   "version": "3.11.6"
  }
 },
 "nbformat": 4,
 "nbformat_minor": 2
}
