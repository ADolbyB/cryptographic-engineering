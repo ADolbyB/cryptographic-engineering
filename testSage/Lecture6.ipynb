{
 "cells": [
  {
   "cell_type": "markdown",
   "metadata": {},
   "source": [
    "## Joel Brigida\n",
    "\n",
    "## CDA-4321: Cryptographic Engineering\n",
    "\n",
    "### Elliptic Curve Functions"
   ]
  },
  {
   "cell_type": "code",
   "execution_count": 1,
   "metadata": {},
   "outputs": [],
   "source": [
    "p = 2^255 - 19  # Pseudo-Mersenne Prime\n",
    "a = 0x2aaaaaaaaaaaaaaaaaaaaaaaaaaaaaaaaaaaaaaaaaaaaaaaaaaaaa984914a144\n",
    "b = 0x7b425ed097b425ed097b425ed097b425ed097b425ed097b4260b5e9c7710c864\n",
    "Gx = 0x2aaaaaaaaaaaaaaaaaaaaaaaaaaaaaaaaaaaaaaaaaaaaaaaaaaaaaaaaaad245a\n",
    "Gy = 0x5f51e65e475f794b1fe122d388b72eb36dc2b28192839e4dd6163a5d81312c14"
   ]
  },
  {
   "cell_type": "code",
   "execution_count": 4,
   "metadata": {},
   "outputs": [
    {
     "name": "stdout",
     "output_type": "stream",
     "text": [
      "Curve E = Elliptic Curve defined by y^2 = x^3 + 19298681539552699237261830834781317975544997444273427339909597334573241639236*x + 55751746669818908907645289078257140818241103727901012315294400837956729358436 over Finite Field of size 57896044618658097711785492504343953926634992332820282019728792003956564819949\n",
      "Point at infinity: (0 : 1 : 0)\n",
      "T[0] x = 41075246267893719307166194686267917353475773848132654608823633591112089817159\n",
      "T[1] y = 43418067372823833314047382463218503626145745902612206746899415475383722027058\n",
      "\n"
     ]
    },
    {
     "ename": "NameError",
     "evalue": "name 'P' is not defined",
     "output_type": "error",
     "traceback": [
      "\u001b[0;31m---------------------------------------------------------------------------\u001b[0m",
      "\u001b[0;31mNameError\u001b[0m                                 Traceback (most recent call last)",
      "Cell \u001b[0;32mIn[4], line 18\u001b[0m\n\u001b[1;32m     16\u001b[0m \u001b[38;5;66;03m# Note when printing any point other than point at infinity, sage will show (x:y:1)\u001b[39;00m\n\u001b[1;32m     17\u001b[0m \u001b[38;5;28mprint\u001b[39m(\u001b[38;5;124mf\u001b[39m\u001b[38;5;124m'\u001b[39m\u001b[38;5;124mT[0] x = \u001b[39m\u001b[38;5;132;01m{\u001b[39;00mx\u001b[38;5;132;01m}\u001b[39;00m\u001b[38;5;130;01m\\n\u001b[39;00m\u001b[38;5;124mT[1] y = \u001b[39m\u001b[38;5;132;01m{\u001b[39;00my\u001b[38;5;132;01m}\u001b[39;00m\u001b[38;5;130;01m\\n\u001b[39;00m\u001b[38;5;124m'\u001b[39m)\n\u001b[0;32m---> 18\u001b[0m \u001b[38;5;28mprint\u001b[39m(\u001b[38;5;124mf\u001b[39m\u001b[38;5;124m'\u001b[39m\u001b[38;5;124mPoint P = \u001b[39m\u001b[38;5;132;01m{\u001b[39;00m\u001b[43mP\u001b[49m\u001b[38;5;132;01m}\u001b[39;00m\u001b[38;5;124m'\u001b[39m)\n\u001b[1;32m     20\u001b[0m \u001b[38;5;66;03m# Point Addition R = P + Q: Adding two points P and Q\u001b[39;00m\n\u001b[1;32m     21\u001b[0m R \u001b[38;5;241m=\u001b[39m P \u001b[38;5;241m+\u001b[39m Q\n",
      "\u001b[0;31mNameError\u001b[0m: name 'P' is not defined"
     ]
    }
   ],
   "source": [
    "# Create an Elliptic Curve over F_p with equation: y^2 = x^3 + ax + b\n",
    "E = EllipticCurve(GF(p),[a,b])\n",
    "print(f'Curve E = {E}')\n",
    "\n",
    "# Point at infinity.\n",
    "# Note when printing point at infinity, sage will show (0:1:0)\n",
    "O = E(0)\n",
    "print(f'Point at infinity: {O}')\n",
    "\n",
    "T = E.random_point()\n",
    "# Point with coordinates (x,y).\n",
    "# Note when printing any point other than point at infinity, sage will show (x:y:1)\n",
    "x = T[0]\n",
    "y = T[1]\n",
    "\n",
    "# Note when printing any point other than point at infinity, sage will show (x:y:1)\n",
    "print(f'T[0] x = {x}\\nT[1] y = {y}\\n')\n",
    "print(f'Point T = {T}')\n",
    "\n",
    "# Order of point P : k * P = point at infinity\n",
    "k = T.order()\n",
    "\n",
    "# Number of bits of number k. Note: number of bits of k is ⌈log_2 k⌉.\n",
    "print(f'# of Bits of K: {k.nbits()}')"
   ]
  },
  {
   "cell_type": "markdown",
   "metadata": {},
   "source": [
    "### Plotting a Continuous Curve"
   ]
  },
  {
   "cell_type": "code",
   "execution_count": null,
   "metadata": {},
   "outputs": [],
   "source": [
    "A = EllipticCurve([0,0,0,-1,1])\n",
    "display(A.plot())"
   ]
  },
  {
   "cell_type": "markdown",
   "metadata": {},
   "source": [
    "### Plotting an Elliptic Curve over a Galois Field"
   ]
  },
  {
   "cell_type": "code",
   "execution_count": null,
   "metadata": {},
   "outputs": [],
   "source": [
    "# GF = Galois Field = prime field\n",
    "\n",
    "B = EllipticCurve(GF(101),[0,0,0,-1,1])\n",
    "\n",
    "display(B.plot())\n",
    "print(f'Number of points on curve B: {B.cardinality()}')"
   ]
  },
  {
   "cell_type": "code",
   "execution_count": null,
   "metadata": {},
   "outputs": [],
   "source": [
    "# GF = Galois Field = Prime Field (discrete)\n",
    "\n",
    "C = EllipticCurve(GF(2^13 - 1),[0,0,0,-1,1])\n",
    "\n",
    "display(C.plot())\n",
    "print(f'Number of points on curve C: {C.cardinality()}')"
   ]
  },
  {
   "cell_type": "markdown",
   "metadata": {},
   "source": [
    "### Plotting Elliptic Curves - Point Addition Examples:\n",
    "\n",
    "Source: https://doc.sagemath.org/html/en/reference/arithmetic_curves/sage/schemes/elliptic_curves/constructor.html\n",
    "\n",
    "Long Weistrass Equation, General Form:\n",
    "#### $$ y^{2} + a_{1}xy + a_{3}y = x^{3} + a_{2}x^{2} + a_{4}x + a_{6} $$\n",
    "\n",
    "This Example:\n",
    "#### $$ y^{2} = x^{3} + x + 6 $$\n",
    "\n",
    "Suppose $ P = (2, 4) \\text{ and } Q = (5, 2) $\n",
    "\n",
    "Function Form:\n",
    "```python\n",
    "EllipticCurve(GF(PRIME), [a1, a2, a3, a4, a6])\n",
    "\n",
    "E = EllipticCurve([0, 0, 0, 1, 6])\n",
    "\n",
    "plot(E)\n",
    "```"
   ]
  },
  {
   "cell_type": "code",
   "execution_count": null,
   "metadata": {},
   "outputs": [],
   "source": [
    "E = EllipticCurve(GF(7), [0, 0, 0, 1, 6])\n",
    "plot(E)"
   ]
  },
  {
   "cell_type": "code",
   "execution_count": null,
   "metadata": {},
   "outputs": [],
   "source": [
    "for p in E:\n",
    "    print(p)\n",
    "\n",
    "print(f'\\nOrder of E: {E.order()}')"
   ]
  },
  {
   "cell_type": "markdown",
   "metadata": {},
   "source": [
    "### Point Addition and Point Doubling"
   ]
  },
  {
   "cell_type": "code",
   "execution_count": null,
   "metadata": {},
   "outputs": [],
   "source": [
    "Q = E([4,2])\n",
    "P = E([6,5])\n",
    "\n",
    "PQ = Q + P  # point addition\n",
    "PP = P + P  # point doubling\n",
    "PP2 = 2 * P # point doubling\n",
    "\n",
    "print(PQ)\n",
    "print(PP)\n",
    "print(PP2)"
   ]
  },
  {
   "cell_type": "markdown",
   "metadata": {},
   "source": [
    "### Polynomial Functions over a Galois Field"
   ]
  },
  {
   "cell_type": "code",
   "execution_count": null,
   "metadata": {},
   "outputs": [],
   "source": [
    "R.<X> = PolynomialRing(GF(2), 'X')\n",
    "S.<x> = GF(2^8, modulus = X^8 + X^4 + X^3 + X + 1, repr='poly')\n",
    "\n",
    "print(f'R = {R}')\n",
    "print(f'S = {S}\\n')\n",
    "\n",
    "print(f'AES modulus is: {S.modulus()}')\n",
    "print(f'Order is: {S.order()}\\n')\n",
    "\n",
    "a = x^3 + 1\n",
    "b = x^6 + x^2 + 1\n",
    "c = a^(-1)\n",
    "\n",
    "print('OpA = x^3 + 1')\n",
    "print('OpB = x^6 + x^2 + 1\\n')\n",
    "print(f'Polynomial Addition Result is: {a + b}')\n",
    "print(f'Polynomial Multiplication Result is: {a * b}')\n",
    "print(f'Polynomial Inversion Result is: {c}')\n",
    "print(f'a * a^-1 = {a * c}\\n')\n",
    "\n",
    "for i,x in enumerate(S):\n",
    "    if x == 0:\n",
    "        continue\n",
    "    if x.multiplicative_order() == 255:\n",
    "        #print(\"{} {}\".format(i, x))\n",
    "        print(f'{i}:  {x}')\n"
   ]
  },
  {
   "cell_type": "markdown",
   "metadata": {},
   "source": [
    "### SBox Functions"
   ]
  },
  {
   "cell_type": "code",
   "execution_count": null,
   "metadata": {},
   "outputs": [],
   "source": [
    "R = PolynomialRing(GF(2),'x',1)\n",
    "x = R.gen()\n",
    "print(f'R = {R}\\n')\n",
    "\n",
    "m = x^8 + x^4 + x^3 + x + 1\n",
    "print(f'AES modulus is: {m}\\n')\n",
    "\n",
    "y = x^7 + x^4 + x^2 + 1\n",
    "print(f'SBox Input is: {y}\\n')\n",
    "\n",
    "# Coefficients of the S-Box, as determined through Lagrange interpolation\n",
    "a = x^2 + 1\n",
    "b = x^3 + 1\n",
    "c = x^7 + x^6 + x^5 + x^4 + x^3 + 1\n",
    "d = x^5 + x^2 + 1\n",
    "e = x^7 + x^6 + x^5 + x^4 + x^2\n",
    "f = 1\n",
    "g = x^7 + x^5 + x^4 + x^2 + 1\n",
    "h = x^7 + x^3 + x^2 + x + 1\n",
    "\n",
    "# Final S-Box Addition\n",
    "v = x^6 + x^5 + x + 1\n",
    "\n",
    "s = a*(y^254) + b*(y^253) + c*(y^251) + d*(y^247) + e*(y^239) + f*(y^223) + g*(y^191) + h*(y^127) + v\n",
    "\n",
    "print(f's % m = {s % m}')"
   ]
  }
 ],
 "metadata": {
  "kernelspec": {
   "display_name": "SageMath 10.0",
   "language": "sage",
   "name": "sagemath"
  },
  "language_info": {
   "codemirror_mode": {
    "name": "ipython",
    "version": 3
   },
   "file_extension": ".py",
   "mimetype": "text/x-python",
   "name": "python",
   "nbconvert_exporter": "python",
   "pygments_lexer": "ipython3",
   "version": "3.10.12"
  }
 },
 "nbformat": 4,
 "nbformat_minor": 2
}
