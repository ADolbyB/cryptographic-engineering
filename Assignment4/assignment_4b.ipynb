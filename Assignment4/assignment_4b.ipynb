{
 "cells": [
  {
   "cell_type": "markdown",
   "metadata": {},
   "source": [
    "# Joel Brigida\n",
    "\n",
    "## CDA-4321: Cryptographic Engineering\n",
    "\n",
    "## Assignment 4B: Private and Public Key Encryption Implementation"
   ]
  },
  {
   "cell_type": "markdown",
   "metadata": {},
   "source": [
    "# Part 1) RSA: Asymmetrical\n",
    "\n",
    "### If the Public Key encrypts the message, then the private key will decrypt it. \n",
    "### This is primarily used for signature verification (verifying the sender identity.)\n",
    "\n",
    "### If the Private Key encrypts the message, then the public key will decrypt it.\n",
    "### This is used to exchange encrypted messages without generating a shared secret."
   ]
  },
  {
   "cell_type": "markdown",
   "metadata": {},
   "source": [
    "## 1a) The Following RSA data is generated:\n",
    "#### Note that $p, q$ are primes, $e$ is the public key, $d$ is the private key, \n",
    "#### $c$ is the cyphertext encrypted message, and $$ n = p \\times q $$"
   ]
  },
  {
   "cell_type": "code",
   "execution_count": 1,
   "metadata": {
    "vscode": {
     "languageId": "python"
    }
   },
   "outputs": [],
   "source": [
    "def decode(n):                  # decode an integer value to text\n",
    "    n = Integer(n)\n",
    "    v = []\n",
    "    while n!= 0:\n",
    "        v.append(chr(n % 256))\n",
    "        n //= 256\n",
    "    return ''.join(v)"
   ]
  },
  {
   "cell_type": "markdown",
   "metadata": {},
   "source": [
    "### Decrypt a Bit Pattern: $$ m = c^d \\bmod n $$\n",
    "\n",
    "#### Where $m$ = plain text message, $c$ = cyphertext message, $d$ = private key, and $n = p \\times q$\n",
    "\n",
    "#### Since $$ c = m^e \\bmod n $$ we have: $$ m = (m^e \\bmod n)^d \\bmod n $$"
   ]
  },
  {
   "cell_type": "code",
   "execution_count": 2,
   "metadata": {
    "vscode": {
     "languageId": "python"
    }
   },
   "outputs": [],
   "source": [
    "# Given Values: \n",
    "\n",
    "p = 0x1269b2df3bc2d8ef3626ef98a9ea77743                                 # prime 1\n",
    "q = 0x1104c4aa7525602cfaf5206afdb533bf7                                 # prime 2\n",
    "e = 0x96f54d8a969cd130d116e9e28d4cf01ad5f806c36e33be5398c1ee4ddfc1ccf5  # public key\n",
    "d = 0x501835ad04cce18b61c3c663db5ae973fa24ffb25b0ab538a27eeca427274599  # private key\n",
    "n = 0x1395cacce059063e3afa215c480c313787abd46e7516ff4ca6bfc836ea7c982a5 # n = p * q = modulus\n",
    "c = 0x1333afedf43135fd5387f3dac6d7746450426e2d6fd6fee3b1aaf7efcf7decfa  # cyphertext message"
   ]
  },
  {
   "cell_type": "markdown",
   "metadata": {},
   "source": [
    "### Decrypt cyphertext & Decode to a String: $c \\Longrightarrow m$"
   ]
  },
  {
   "cell_type": "code",
   "execution_count": 3,
   "metadata": {
    "vscode": {
     "languageId": "python"
    }
   },
   "outputs": [
    {
     "name": "stdout",
     "output_type": "stream",
     "text": [
      "n == p * q ? True\n",
      "\n",
      "message m = 0x21626f6a20646f6f47\n",
      "\n",
      "Decrypted Message: \"Good job!\"\n"
     ]
    }
   ],
   "source": [
    "print(f'n == p * q ? {p * q == n}\\n')\n",
    "\n",
    "m = power_mod(c, d, n)\n",
    "print(f'message m = {hex(m)}\\n')\n",
    "\n",
    "message = decode(m)\n",
    "print(f'Decrypted Message: \\\"{message}\\\"')"
   ]
  },
  {
   "cell_type": "markdown",
   "metadata": {},
   "source": [
    "## 1b) Generate 128-bit Security Level RSA Keys"
   ]
  },
  {
   "cell_type": "code",
   "execution_count": 4,
   "metadata": {
    "vscode": {
     "languageId": "python"
    }
   },
   "outputs": [],
   "source": [
    "def rsa(bits):                  # pseudo-primality test if bits > 1024\n",
    "    proof = (bits <= 1024)\n",
    "    p = next_prime (ZZ.random_element(2 ** (bits // 2 + 1)), proof = proof)\n",
    "    q = next_prime (ZZ.random_element(2 ** (bits // 2 + 1)), proof = proof)\n",
    "    n = p * q\n",
    "    phi_n = (p - 1) * (q - 1)\n",
    "\n",
    "    while True:\n",
    "        e = ZZ.random_element(1, phi_n)\n",
    "        if gcd(e, phi_n) == 1:\n",
    "            break\n",
    "    d = lift(Mod(e, phi_n)^(-1))\n",
    "    return p, q, e, d, n        # p & q = primes, e = public key, d = private key, n = p * q\n",
    "\n",
    "def encode(s):                  # Encode a string to an integer value\n",
    "    s = str(s)\n",
    "    return sum(ord(s[i]) * 256^i for i in range(len(s)))"
   ]
  },
  {
   "cell_type": "markdown",
   "metadata": {},
   "source": [
    "### Encrypt a Text Bit Pattern: $$ c = m^e \\bmod n $$"
   ]
  },
  {
   "cell_type": "code",
   "execution_count": 5,
   "metadata": {
    "vscode": {
     "languageId": "python"
    }
   },
   "outputs": [
    {
     "name": "stdout",
     "output_type": "stream",
     "text": [
      "Plaintext Message: \"Cryptographic Engineering\"\n",
      "\n",
      "p1 = 0x1aaaa7b32fba5f002e7258dd27b63d6a9\n",
      "q1 = 0xa176dcb29b817fc3d8352020a5ef3003\n",
      "e1 = 0xc8eb63dde7e049f0efa87926effa45839d63f46cf8652919451c992d53738f47\n",
      "d1 = 0x812f6e4111e7a7e5ab8f7061638d6876038cd4fd9dc700008db03b92b44cf87\n",
      "n1 = 0x10d1b51e40959e194f6b95690b0a40a5c9bca5c6a8f728818c15da14a7f3233fb\n",
      "\n",
      "n1 == p1 * q1 ? True\n",
      "\n",
      "Plain Text Message Bit Pattern: 0x676e697265656e69676e4520636968706172676f7470797243\n",
      "\n",
      "Sanity Check: Unencrypted Message = \"Cryptographic Engineering\"\n",
      "c1 Encrypted Bit Pattern = 0xc7bae79a8c1838d927a63bf9a317e77ce00b1ad80cc6e3df974334ccb850a081\n"
     ]
    }
   ],
   "source": [
    "myMessage = \"Cryptographic Engineering\"\n",
    "print(f'Plaintext Message: \\\"{myMessage}\\\"\\n')\n",
    "\n",
    "p1, q1, e1, d1, n1 = rsa(256)           # \n",
    "print(f'p1 = {hex(p1)}\\nq1 = {hex(q1)}\\ne1 = {hex(e1)}\\nd1 = {hex(d1)}\\nn1 = {hex(n1)}\\n')\n",
    "\n",
    "print(f'n1 == p1 * q1 ? {p1 * q1 == n1}\\n')\n",
    "\n",
    "plainTextBitPattern = encode(myMessage) # convert the string to an integer\n",
    "m1 = plainTextBitPattern\n",
    "print(f'Plain Text Message Bit Pattern: {hex(m1)}\\n')\n",
    "\n",
    "decodedMessage = decode(m1)             # convert unencrypted message to text as a test\n",
    "print(f'Sanity Check: Unencrypted Message = \\\"{decodedMessage}\\\"')\n",
    "\n",
    "cypherText = power_mod(m1, e1, n1)      # performs m^e mod n to encrypt message to cypher text\n",
    "c1 = cypherText\n",
    "print(f'c1 Encrypted Bit Pattern = {hex(c1)}')"
   ]
  },
  {
   "cell_type": "markdown",
   "metadata": {},
   "source": [
    "### Decrypt the CypherText Bit Pattern: $$ m = c^d \\bmod n $$"
   ]
  },
  {
   "cell_type": "code",
   "execution_count": 6,
   "metadata": {
    "vscode": {
     "languageId": "python"
    }
   },
   "outputs": [
    {
     "name": "stdout",
     "output_type": "stream",
     "text": [
      "m2 Decrypted Message Bit Pattern: 0x676e697265656e69676e4520636968706172676f7470797243\n",
      "\n",
      "Decrypted Message Text: \"Cryptographic Engineering\"\n"
     ]
    }
   ],
   "source": [
    "m2 = power_mod(c1, d1, n1)\n",
    "print(f'm2 Decrypted Message Bit Pattern: {hex(m2)}\\n')\n",
    "\n",
    "newMessage = decode(m2)\n",
    "print(f'Decrypted Message Text: \\\"{newMessage}\\\"')"
   ]
  }
 ],
 "metadata": {
  "kernelspec": {
   "display_name": "SageMath 10.0",
   "language": "sage",
   "name": "sagemath"
  },
  "language_info": {
   "codemirror_mode": {
    "name": "ipython",
    "version": 3
   },
   "file_extension": ".py",
   "mimetype": "text/x-python",
   "name": "sage",
   "nbconvert_exporter": "python",
   "pygments_lexer": "ipython3",
   "version": "3.10.12"
  }
 },
 "nbformat": 4,
 "nbformat_minor": 2
}
