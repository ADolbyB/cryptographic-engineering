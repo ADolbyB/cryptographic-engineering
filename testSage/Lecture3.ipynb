{
 "cells": [
  {
   "cell_type": "markdown",
   "metadata": {},
   "source": [
    "## Joel Brigida\n",
    "### Lecture 3 for Assignment 1\n",
    "### Sept 1, 2023"
   ]
  },
  {
   "cell_type": "markdown",
   "metadata": {},
   "source": [
    "Important Concepts:\n",
    "\n",
    "- What happens when a 64-bit number is stored into a 32-bit word/variable?\n",
    "- The UPPER 32-bits are lost. The lower 32-bits are retained.\n",
    "\n",
    "Example pseudo-code:\n",
    "\n",
    "```python\n",
    "0b1100  # MSB = 1, LSB = 0\n",
    "\n",
    "0b1100 & 0b11 = 0b00            # result is the LSB 2 bits of the 4 bit variable\n",
    "0b1100 >> 2 & 0b11 = 0b11       # save upper 2 bits of the 4 bit variable into a separate variable\n",
    "\n",
    "# 0b00 -> \"Lower Half\"\n",
    "# 0b11 -> \"Upper Half\"\n",
    "\n",
    "0b11001100 >> 4 = 0b1100\n",
    "\n",
    "0b10101111 -> 0b1010 0b1111     # Need to split an 8 bit number to a 4-bit upper half & 4-bit lower half\n",
    "                al     ah\n",
    "\n",
    "0b1010 || 0b1111 => 0b10101111  # Concatenation\n",
    "\n",
    "```"
   ]
  },
  {
   "cell_type": "markdown",
   "metadata": {},
   "source": [
    "# 1: Compute Residue Without Using '%' operator:"
   ]
  },
  {
   "cell_type": "markdown",
   "metadata": {},
   "source": [
    "## $$ a \\bmod p_{1} $$"
   ]
  },
  {
   "cell_type": "code",
   "execution_count": 1,
   "metadata": {},
   "outputs": [
    {
     "name": "stdout",
     "output_type": "stream",
     "text": [
      "0x1ffff\n",
      "0x3fffffff \n",
      "\n",
      "a = 2^30 - 18 =  0x3fffffee\n",
      "p1 = 2^17 - 1 =  0x1ffff \n",
      "\n",
      "ah: (high 13 bits)  0x1fff\n",
      "al: (lower 17 bits)  0x1ffee \n",
      "\n",
      "r = ah + al = 18 bits = 0x21fed\n",
      "r > p1 ? True\n",
      "\n",
      "r -= p1 = 0x1fee\n",
      "r > p1 ? False\n",
      "\n",
      "Residue of a % p1 = 0x1fee\n",
      "Answer matches correct result ? True\n"
     ]
    }
   ],
   "source": [
    "a = 2^30 - 18                   # Number to be reduced\n",
    "p1 = 2^17 - 1                   # Modulus 1 Mersenne Prime\n",
    "\n",
    "# 2^30 - 18 = 31 bits\n",
    "# 2^17 - 1 = 17 bits\n",
    "\n",
    "ah = a >> 17                    # resulting operation is 13 bits\n",
    "al = p1 & a                     # need upper p1 as a mask: p1 = 0x1ffff (17 1's)\n",
    "\n",
    "print(hex(2^17 - 1))\n",
    "print(hex(2^30 - 1), '\\n')\n",
    "\n",
    "print('a = 2^30 - 18 = ', hex(a))\n",
    "print('p1 = 2^17 - 1 = ', hex(p1), '\\n')\n",
    "\n",
    "print('ah: (high 13 bits) ', hex(ah))\n",
    "print('al: (lower 17 bits) ', hex(al), '\\n')\n",
    "\n",
    "# print(f'hex(ah + al) = {hex(ah + al)}')\n",
    "\n",
    "r = ah + al                     # Add the lower and upper bits together\n",
    "print(f'r = ah + al = {r.nbits()} bits = {hex(r)}')\n",
    "print(f'r > p1 ? {r > p1}\\n')\n",
    "\n",
    "# Still at 18 bits, need to get to 17 bits ... what can I remove?\n",
    "\n",
    "r -= p1                         # subtract the 17 bit modulus from r\n",
    "print(f'r -= p1 = {hex(r)}')\n",
    "print(f'r > p1 ? {r > p1}\\n')\n",
    "\n",
    "print(f'Residue of a % p1 = {hex(r)}')\n",
    "print(f'Answer matches correct result ? {hex(r) == hex(a % p1)}')"
   ]
  },
  {
   "cell_type": "markdown",
   "metadata": {},
   "source": [
    "## $$ a \\bmod p_{2} $$"
   ]
  },
  {
   "cell_type": "code",
   "execution_count": 2,
   "metadata": {},
   "outputs": [
    {
     "name": "stdout",
     "output_type": "stream",
     "text": [
      "a2 = 0x3fffffee\n",
      "p2 = 0x3fffffb\n",
      "\n",
      "a2 = 0b111111111111111111111111101110\n",
      "p2 = 0b11111111111111111111111011\n",
      "\n",
      "ah2 = 0xf\n",
      "al2 = 0x3ffffee\n",
      "r2 = 0x4000039 (before while loop)\n",
      "\n",
      "r2: Residue of 0x3fffffee % 0x3fffffb = 0x3e\n",
      "\n",
      "a2 % p2: Residue of 0x3fffffee % 0x3fffffb = 0x3e\n",
      "\n",
      "Answer matches correct result ? True\n",
      "\n",
      "----------------------------------------------\n",
      "\n",
      "Single Line Solution, r2 before while loop: 0x4000039\n",
      "\n",
      "0x3e\n"
     ]
    }
   ],
   "source": [
    "a2 = 2^30 - 18                  # Number to be reduced\n",
    "p2 = 2^26 - 5                   # Modulus 2 Pseudo-Mersenne Prime\n",
    "\n",
    "print(f'a2 = {hex(a2)}')\n",
    "print(f'p2 = {hex(p2)}\\n')\n",
    "\n",
    "print(f'a2 = {bin(a2)}')\n",
    "print(f'p2 = {bin(p2)}\\n')\n",
    "\n",
    "# 2^30 = 30 bits\n",
    "# 2^26 = 26 bits\n",
    "\n",
    "ah2 = a2 >> 26                  # High Bits: Result is 4 bits 0xF\n",
    "print(f'ah2 = {hex(ah2)}')\n",
    "\n",
    "al2 = a2 & (p2 + 4)             # Low bits: Lowest 26 bits of dividend: p2 + 4 = 26 1's\n",
    "print(f'al2 = {hex(al2)}')\n",
    "\n",
    "r2 = (ah2 * 5) + al2            # multiply by 5 because of the -5 in: p2 = 2^26 - 5\n",
    "print(f'r2 = {hex(r2)} (before while loop)\\n')\n",
    "\n",
    "while(r2 > p2):\n",
    "    r2 = r2 - p2\n",
    "\n",
    "print(f'r2: Residue of {hex(a)} % {hex(p2)} = {hex(r2)}\\n')\n",
    "print(f'a2 % p2: Residue of {hex(a)} % {hex(p2)} = {hex(a2 % p2)}\\n')\n",
    "print(f'Answer matches correct result ? {hex(r2) == hex(a2 % p2)}\\n')\n",
    "\n",
    "print('----------------------------------------------\\n')\n",
    "a2 = 2^30 - 18                  # Number to be reduced\n",
    "p2 = 2^26 - 5                   # Modulus 2 Pseudo-Mersenne Prime\n",
    "\n",
    "r2 = ((a2 >> 26) * 5) + (a2 & (p2 + 4))\n",
    "print(f'Single Line Solution, r2 before while loop: {hex(r2)}\\n')\n",
    "\n",
    "while(r2 > p2):\n",
    "    r2 -= p2\n",
    "\n",
    "print(hex(r2))"
   ]
  },
  {
   "cell_type": "markdown",
   "metadata": {},
   "source": [
    "## $$ a \\bmod b $$"
   ]
  },
  {
   "cell_type": "code",
   "execution_count": 3,
   "metadata": {},
   "outputs": [
    {
     "name": "stdout",
     "output_type": "stream",
     "text": [
      "2^16     = 0b10000000000000000\n",
      "2^16 - 1  = 0b1111111111111111\n",
      "\n",
      "Residue of a % b = 0xffee\n",
      "\n",
      "Answer matches correct result ? True\n"
     ]
    }
   ],
   "source": [
    "a = 2^30 - 18           # Number to be reduced\n",
    "b = 2^16                # A power of 2\n",
    "\n",
    "print(f'2^16     = {bin(2^16)}')\n",
    "print(f'2^16 - 1  = {bin(2^16 - 1)}\\n')\n",
    "\n",
    "c = a & (2^16 - 1)      # Mask 'a' == (a % 2^16)\n",
    "\n",
    "print(f'Residue of a % b = {hex(c)}\\n')\n",
    "print(f'Answer matches correct result ? {hex(c) == hex(a % b)}')"
   ]
  },
  {
   "cell_type": "markdown",
   "metadata": {},
   "source": [
    "## Part 1 Answer Key (For Reference):"
   ]
  },
  {
   "cell_type": "code",
   "execution_count": 4,
   "metadata": {},
   "outputs": [
    {
     "name": "stdout",
     "output_type": "stream",
     "text": [
      "1a) residue of a % p1 = (2^30 - 18) % (2^17 - 1) = 8174   = 0x1fee\n",
      "1b) residue of a % p2 = (2^30 - 18) % (2^26 - 5) = 62     = 0x3e\n",
      "1c) residue of a % b  = (2^30 - 18) % (2^16)     = 65518  = 0xffee\n"
     ]
    }
   ],
   "source": [
    "a = (2^30 - 18)\n",
    "p1 = (2^17 - 1)\n",
    "p2 = (2^26 - 5)\n",
    "b = 2^16\n",
    "\n",
    "print(f'1a) residue of a % p1 = (2^30 - 18) % (2^17 - 1) = {a % p1}   = {hex(a % p1)}')\n",
    "print(f'1b) residue of a % p2 = (2^30 - 18) % (2^26 - 5) = {a % p2}     = {hex(a % p2)}')\n",
    "print(f'1c) residue of a % b  = (2^30 - 18) % (2^16)     = {a % b}  = {hex(a % b)}')"
   ]
  },
  {
   "cell_type": "markdown",
   "metadata": {},
   "source": [
    "# 2: FLT - Fermats Little Theorem\n",
    "\n",
    "- If we have a modulus $p$ and a number to reduce $a$.\n",
    "- We want to find the multiplicative inverse in a finite field (field defined by a prime).\n",
    "- Show that $ a^{p-2} \\equiv a^{-1} \\text{mod } p $ is true.\n",
    "\n",
    "## $$ a^{p-2} \\equiv a^{-1} \\text{mod } p $$"
   ]
  },
  {
   "cell_type": "code",
   "execution_count": 5,
   "metadata": {},
   "outputs": [
    {
     "name": "stdout",
     "output_type": "stream",
     "text": [
      "32^15 = 32^(-1) mod 17 = 8\n",
      "\n",
      "32^15 = 0x8000000000000000000 = 32^(-1) mod 17 = 0x8000000000000000000 % 17 = 8\n",
      "\n",
      "Inverse Mod(32, 17) = 8\n",
      "\n",
      "32 % 17 = 15\n",
      "\n",
      "\n",
      "\n",
      "0x1f5f5 \n",
      "\n",
      "0x1f5f5 \n",
      "\n",
      "True \n",
      "\n",
      "0x1f5f5 \n",
      "\n",
      "Total Iterations: 131068\n",
      "\n",
      "\n",
      "\n",
      "Inverse Mod(a, p) = 0x1f5f5\n",
      "\n",
      "a^(p-1) mod p = 1: 1\n",
      "\n",
      "a^(p-2) mod p = 0x1f5f5 = 128501\n",
      "\n",
      "pow(a, p-2, p) = 0x1f5f5 = 128501\n",
      "\n",
      "a^(p-2) % p = 0x1f5f5 = 128501\n"
     ]
    }
   ],
   "source": [
    "a = 32; p = 17; n = -1\n",
    "\n",
    "print(f'{a}^{p - 2} = {a}^(-1) mod {p} = {pow(a, n, p)}\\n')\n",
    "print(f'{a}^{p - 2} = {hex(a^(p-2))} = {a}^(-1) mod {p} = {hex(a^(p-2))} % {p} = {a^(p-2) % p}\\n')\n",
    "print(f'Inverse Mod({a}, {p}) = {inverse_mod(a, p)}\\n')\n",
    "print(f'{a} % {p} = {a % p}\\n\\n\\n')\n",
    "\n",
    "# FLT = a^(p-2) % p === a^(-1) % p\n",
    "a = 51                  # modulus\n",
    "p1 = 2^17 - 1           # Number to be reduced\n",
    "\n",
    "print(hex(a^(p1-2) % p1), '\\n')\n",
    "print(hex(a^(-1) % p1), '\\n')\n",
    "\n",
    "print(a^(p1-2) % p1 == (a^(-1) % p1), '\\n') \n",
    "\n",
    "# need n - 1 multiplications for a^n\n",
    "# a^4 = a * a * a * a (4 multiplications)\n",
    "# a^5 = a * a * a * a * a (5 multiplications)\n",
    "a = 51\n",
    "r = a\n",
    "\n",
    "for i in range(p1 - 3):\n",
    "    r = (r * a) % p1\n",
    "\n",
    "print(hex(r), '\\n')\n",
    "print(f'Total Iterations: {p1 - 3}\\n\\n\\n')\n",
    "\n",
    "a = 51\n",
    "p = 0x0001FFFF\n",
    "\n",
    "print(f'Inverse Mod(a, p) = {hex(inverse_mod(a, p))}\\n')\n",
    "\n",
    "print(f'a^(p-1) mod p = 1: {a^(p-1) % p}\\n')\n",
    "\n",
    "print(f'a^(p-2) mod p = {hex(a^(p - 2) % p)} = {a^(p - 2) % p}\\n')\n",
    "\n",
    "print(f'pow(a, p-2, p) = {hex(pow(a, (p - 2), p))} = {a^(p-2) % p}\\n')\n",
    "\n",
    "print(f'a^(p-2) % p = {hex(a^(p-2) % p)} = {a^(p-2) % p}')"
   ]
  },
  {
   "cell_type": "markdown",
   "metadata": {},
   "source": [
    "## Inversion using `inverse_mod()` function: \n",
    "### FLT method only works with prime modulus. \n",
    "### $$ x^{-1} = x^{p-2} \\bmod p $$\n",
    "### Example: $$ 17^{-1} = 17^{19-2} \\bmod 19 = 9 $$"
   ]
  },
  {
   "cell_type": "code",
   "execution_count": 13,
   "metadata": {},
   "outputs": [
    {
     "name": "stdout",
     "output_type": "stream",
     "text": [
      "17^(17) % 19 = 9\n",
      "\n"
     ]
    }
   ],
   "source": [
    "c = inverse_mod(17, 19)\n",
    "print(f'17^(17) % 19 = {c}\\n')"
   ]
  },
  {
   "cell_type": "markdown",
   "metadata": {},
   "source": [
    "## EEA: Extended Euclidean Algorithm\n",
    "\n",
    "- Slightly Faster than FLT: does not need to perform exponentiation with each loop iteration.\n",
    "- See P.57 of Lec2-FF.pdf for C pseudocode."
   ]
  },
  {
   "cell_type": "code",
   "execution_count": 6,
   "metadata": {},
   "outputs": [
    {
     "name": "stdout",
     "output_type": "stream",
     "text": [
      "While: t1 = -0x33 = -51\n",
      "\n",
      "v = 0x1f5f5\n",
      "Iterations: 2\n"
     ]
    }
   ],
   "source": [
    "def EEA(b, p1, count):\n",
    "    # p1 = 0x0001FFFF\n",
    "    a = p1\n",
    "    # b = 51                                  # modulus\n",
    "    u = 1\n",
    "    v = 0\n",
    "    d = a\n",
    "    v1 = 0\n",
    "    v3 = b\n",
    "\n",
    "    while(v3 != 0):\n",
    "        q = d // v3;                        # integer division\n",
    "        t3 = d % v3;\n",
    "        t1 = u - (q * v1);\n",
    "        \n",
    "        if(t1 < 0):\n",
    "            print(f'While: t1 = {hex(t1)} = {t1}\\n')\n",
    "            t1 = t1 + p1\n",
    "        \n",
    "        u = v1\n",
    "        d = v3\n",
    "        v1 = t1\n",
    "        v3 = t3\n",
    "        count += 1\n",
    "\n",
    "\n",
    "    v = (d - (a * u)) / b;                  # can be negative\n",
    "\n",
    "    if(v < 0):                              # if negative: Add the modulus\n",
    "        v = v + a\n",
    "\n",
    "    print(f'v = {hex(v)}')\n",
    "    return count\n",
    "\n",
    "b = 51                                      # modulus\n",
    "p1 = 0x0001FFFF\n",
    "\n",
    "counter = EEA(b, p1, 0)\n",
    "\n",
    "print(f'Iterations: {counter}')"
   ]
  },
  {
   "cell_type": "markdown",
   "metadata": {},
   "source": [
    "### Implementing $ \\bmod $ operator without using $ \\bmod $ function:\n",
    "### $$ a \\, \\bmod \\, b = a - \\left( \\biggl\\lfloor \\frac{a}{b} \\biggr\\rfloor \\cdot b \\right) $$\n",
    "\n",
    "- Load and read 1st & 2nd operands.\n",
    "- Shift right to the nearest multiple of 2 of the 2nd operator"
   ]
  },
  {
   "cell_type": "code",
   "execution_count": 7,
   "metadata": {},
   "outputs": [
    {
     "name": "stdout",
     "output_type": "stream",
     "text": [
      "Calculated result: -7 % 12 = 5\n",
      "Check w/ % operator: 5\n",
      "\n",
      "Calculated result: 7 % 12 = 7\n",
      "Check w/ % operator: 7\n",
      "\n",
      "Calculated result: 35 % 12 = 11\n",
      "Check w/ % operator: 11\n",
      "\n",
      "Calculated result: -12 % 17 = 5\n",
      "Check w/ % operator: 5\n",
      "\n",
      "Calculated result: 12 % 17 = 12\n",
      "Check w/ % operator: 12\n",
      "\n",
      "Calculated result: 30 % 17 = 13\n",
      "Check w/ % operator: 13\n",
      "\n",
      "Calculated result: 24 % 17 = 7\n",
      "Check w/ % operator: 7\n",
      "\n"
     ]
    }
   ],
   "source": [
    "# implementing a % b = r without using % operator\n",
    "\n",
    "def modFunc(a, b):\n",
    "    result = a - (a // b * b)   ## Modulo w/o using % operator (but uses integer division !!)\n",
    "    # need a bitshifting method to accomodate the same result faster every time.\n",
    "    print(f'Calculated result: {a} % {b} = {result}')\n",
    "    print(f'Check w/ % operator: {a % b}\\n')\n",
    "\n",
    "modFunc(-7, 12) # not a prime modulus means not a Finite Field!! Notice how the math doesn't work\n",
    "modFunc(7, 12)\n",
    "modFunc(35, 12)\n",
    "\n",
    "modFunc(-12, 17)\n",
    "modFunc(12, 17)\n",
    "modFunc((5 * 6), 17)\n",
    "modFunc(24, 17)\n"
   ]
  },
  {
   "cell_type": "markdown",
   "metadata": {},
   "source": [
    "### Bitshifting Method For Pseudo-Marsenne Primes:\n",
    "\n",
    "#### Pseudo-Mersenne Primes have the form: $$ 2^{n} - m \\, | \\, n, m \\in \\N $$\n",
    "#### $$ $$"
   ]
  },
  {
   "cell_type": "code",
   "execution_count": 8,
   "metadata": {},
   "outputs": [
    {
     "name": "stdout",
     "output_type": "stream",
     "text": [
      "div1 = 0x3fffffee\n",
      "mod1 = 0x3fffffb = 2^26 - 5\n",
      "\n",
      "res before while loop: 0x4000039\n",
      "\n",
      "res after while loop: 0x3e\n",
      "0x3fffffee % 0x3fffffb = 0x3e = 0x3e\n"
     ]
    }
   ],
   "source": [
    "# This function is easily reproducible for C language\n",
    "def PseudoMars(div, n, m):\n",
    "    div1 = div\n",
    "    mod1 = 2^n - m                      # 2^26 - 5 is the modulus in our case\n",
    "    print(f'div1 = {hex(div1)}\\nmod1 = {hex(mod1)} = 2^{n} - {m}\\n')\n",
    "\n",
    "    res = ((div1 >> n) * m) + (div1 & (mod1 + (m - 1)))\n",
    "    print(f'res before while loop: {hex(res)}\\n')\n",
    "\n",
    "    while(res > mod1):\n",
    "        res -= mod1\n",
    "\n",
    "    print(f'res after while loop: {hex(div1 % mod1)}')\n",
    "    print(f'{hex(div1)} % {hex(mod1)} = {hex(res)} = {hex(div1 % mod1)}')\n",
    "    return\n",
    "\n",
    "\n",
    "i = 26; j = 5\n",
    "dividend = 2^30 - 18                    # Pseudo Marsenne Prime to be reduced\n",
    "# modulus = 2^i - j                     # 2^26 - 5 is the modulus\n",
    "\n",
    "PseudoMars(dividend, i, j)"
   ]
  }
 ],
 "metadata": {
  "kernelspec": {
   "display_name": "SageMath 10.0",
   "language": "sage",
   "name": "sagemath"
  },
  "language_info": {
   "codemirror_mode": {
    "name": "ipython",
    "version": 3
   },
   "file_extension": ".py",
   "mimetype": "text/x-python",
   "name": "python",
   "nbconvert_exporter": "python",
   "pygments_lexer": "ipython3",
   "version": "3.10.12"
  },
  "orig_nbformat": 4
 },
 "nbformat": 4,
 "nbformat_minor": 2
}
