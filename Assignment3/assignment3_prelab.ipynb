{
 "cells": [
  {
   "cell_type": "markdown",
   "metadata": {},
   "source": [
    "# Joel Brigida\n",
    "\n",
    "## CDA-4321: Cryptographic Engineering\n",
    "\n",
    "## Prelab #3"
   ]
  },
  {
   "cell_type": "markdown",
   "metadata": {},
   "source": [
    "# Montgomery Multiplication:"
   ]
  },
  {
   "cell_type": "code",
   "execution_count": null,
   "metadata": {},
   "outputs": [],
   "source": [
    "p = 2^20 - 3\n",
    "R = 2^20\n",
    "R2 = (R^2) % p\n",
    "Rinv = inverse_mod(R, p)\n",
    "def mod_add(a, b): return (a + b) % p\n",
    "def mod_sub(a, b): return (a - b) % p\n",
    "def mont_mult(a, b): return (a * b * Rinv) % p\n",
    "\n",
    "a = 0x486d1\n",
    "b = 0xd1dc3\n",
    "c = 0x138a4\n",
    "d = 0x47f45\n",
    "e = 0xbdcc8"
   ]
  },
  {
   "cell_type": "markdown",
   "metadata": {},
   "source": [
    "## Move a, b, c, d, e into Montgomery Domain:\n",
    "\n",
    "Need to perform: $$ (a \\times b + c \\times d - e) $$ In the Montgomery domain."
   ]
  },
  {
   "cell_type": "code",
   "execution_count": null,
   "metadata": {},
   "outputs": [],
   "source": [
    "aa = mont_mult(a, R2)\n",
    "bb = mont_mult(b, R2)\n",
    "cc = mont_mult(c, R2)\n",
    "dd = mont_mult(d, R2)\n",
    "ee = mont_mult(e, R2)\n",
    "\n",
    "r1 = mont_mult(aa, bb)\n",
    "r2 = mont_mult(cc, dd)\n",
    "#r3 = mod_add(?, ?)\n",
    "#r4 =              "
   ]
  },
  {
   "cell_type": "markdown",
   "metadata": {},
   "source": [
    "# Barrett Reduction:"
   ]
  },
  {
   "cell_type": "code",
   "execution_count": null,
   "metadata": {},
   "outputs": [],
   "source": [
    "x = 10256\n",
    "p = 71\n",
    "k = 7\n",
    "mu = (2^(2 * k)) // p # integer division"
   ]
  },
  {
   "cell_type": "code",
   "execution_count": null,
   "metadata": {},
   "outputs": [],
   "source": [
    "q1 = x >> (k - 1); print(f'q1 = {q1}')\n",
    "\n",
    "q2 = q1 * mu; print(f'q2 = {q2}')\n",
    "\n",
    "# q3 = ???\n",
    "\n",
    "r1 = x & (2^(k + 1) - 1)    # mask to perform mod operation\n",
    "print(f'r1 = {r1}')\n",
    "\n",
    "# r2 = q3 * p; print(f'r2 = {r2}')\n",
    "\n",
    "# r = ???; print(f'r = {r}')\n",
    "\n",
    "# if r < 0:\n",
    "#     r = r + ??\n",
    "# while r >= p:\n",
    "#     r = ????\n",
    "\n",
    "# print(f'r = {r}')"
   ]
  }
 ],
 "metadata": {
  "kernelspec": {
   "display_name": "SageMath 10.0",
   "language": "sage",
   "name": "sagemath"
  },
  "language_info": {
   "codemirror_mode": {
    "name": "ipython",
    "version": 3
   },
   "file_extension": ".py",
   "mimetype": "text/x-python",
   "name": "python",
   "nbconvert_exporter": "python",
   "pygments_lexer": "ipython3",
   "version": "3.10.12"
  },
  "orig_nbformat": 4
 },
 "nbformat": 4,
 "nbformat_minor": 2
}
