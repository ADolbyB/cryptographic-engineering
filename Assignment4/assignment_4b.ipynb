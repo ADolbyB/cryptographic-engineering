{
 "cells": [
  {
   "cell_type": "markdown",
   "metadata": {},
   "source": [
    "# Joel Brigida\n",
    "\n",
    "## CDA-4321: Cryptographic Engineering\n",
    "\n",
    "## Assignment 4B: Private and Public Key EncryptionImplementation"
   ]
  },
  {
   "cell_type": "markdown",
   "metadata": {},
   "source": [
    "# Part 1) RSA: Asymmetrical\n",
    "\n",
    "### If the Public Key encrypts the message, then the private key will decrypt it. \n",
    "### This is primarily used for signature verification (verifying the sender identity.)\n",
    "\n",
    "### If the Private Key encrypts the message, then the public key will decrypt it.\n",
    "### This is used to exchange encrypted messages without generating a shared secret."
   ]
  },
  {
   "cell_type": "markdown",
   "metadata": {},
   "source": [
    "## 1a) The Follwing RSA data is generated:\n",
    "#### Note that $p$ and $q$ are primes, $e$ is the public key, $d$ is the private key, \n",
    "#### $c$ is the cyphertext encrypted message, and $$ n = p \\times q $$"
   ]
  },
  {
   "cell_type": "code",
   "execution_count": 3,
   "metadata": {},
   "outputs": [],
   "source": [
    "def encode(s):\n",
    "    s = str(s)\n",
    "    return sum(ord(s[i]) * 256^i for i in range(len(s)))\n",
    "\n",
    "def decode(n):\n",
    "    n = Integer(n)\n",
    "    v = []\n",
    "    while n!= 0:\n",
    "        v.append(chr(n % 256))\n",
    "        n //= 256\n",
    "    return ''.join(v)"
   ]
  },
  {
   "cell_type": "markdown",
   "metadata": {},
   "source": [
    "### Decrypt a Bit Pattern: $$ m = c^d \\bmod n $$\n",
    "\n",
    "#### Where $m$ = plain text message, $c$ = cyphertext message, $d$ = private key, and $n = p \\times q$\n",
    "\n",
    "#### Since $$ c = m^e \\bmod n $$ we have: $$ m = (m^e \\bmod n)^d \\bmod n $$"
   ]
  },
  {
   "cell_type": "code",
   "execution_count": 9,
   "metadata": {},
   "outputs": [],
   "source": [
    "# Given Values: \n",
    "\n",
    "p = 0x1269b2df3bc2d8ef3626ef98a9ea77743\n",
    "q = 0x1104c4aa7525602cfaf5206afdb533bf7\n",
    "e = 0x96f54d8a969cd130d116e9e28d4cf01ad5f806c36e33be5398c1ee4ddfc1ccf5\n",
    "d = 0x501835ad04cce18b61c3c663db5ae973fa24ffb25b0ab538a27eeca427274599\n",
    "n = 0x1395cacce059063e3afa215c480c313787abd46e7516ff4ca6bfc836ea7c982a5\n",
    "c = 0x1333afedf43135fd5387f3dac6d7746450426e2d6fd6fee3b1aaf7efcf7decfa"
   ]
  },
  {
   "cell_type": "code",
   "execution_count": 19,
   "metadata": {},
   "outputs": [
    {
     "name": "stdout",
     "output_type": "stream",
     "text": [
      "n == p * q ? True\n",
      "\n",
      "m = 0x21626f6a20646f6f47\n",
      "\n",
      "Decrypted Message: \"Good job!\"\n"
     ]
    }
   ],
   "source": [
    "print(f'n == p * q ? {p * q == n}\\n')\n",
    "\n",
    "m = power_mod(c, d, n)\n",
    "print(f'm = {hex(m)}\\n')\n",
    "\n",
    "message = decode(m)\n",
    "print(f'Decrypted Message: \\\"{message}\\\"')"
   ]
  }
 ],
 "metadata": {
  "kernelspec": {
   "display_name": "SageMath 10.0",
   "language": "sage",
   "name": "sagemath"
  },
  "language_info": {
   "codemirror_mode": {
    "name": "ipython",
    "version": 3
   },
   "file_extension": ".py",
   "mimetype": "text/x-python",
   "name": "python",
   "nbconvert_exporter": "python",
   "pygments_lexer": "ipython3",
   "version": "3.10.12"
  }
 },
 "nbformat": 4,
 "nbformat_minor": 2
}
